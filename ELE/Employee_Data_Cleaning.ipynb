{
  "nbformat": 4,
  "nbformat_minor": 0,
  "metadata": {
    "colab": {
      "provenance": []
    },
    "kernelspec": {
      "name": "python3",
      "display_name": "Python 3"
    },
    "language_info": {
      "name": "python"
    }
  },
  "cells": [
    {
      "cell_type": "code",
      "source": [
        "import pandas as pd\n",
        "import numpy as np\n",
        "\n",
        "# Sample employee dataset with some missing values\n",
        "employee_data = pd.DataFrame({\n",
        "    'Education': ['Bachelors', 'Bachelors', 'Bachelors', 'Masters', np.nan, 'PhD', 'PhD', 'Masters'],\n",
        "    'JoiningYear': [2017, 2013, 2014, 2016, 2017, np.nan, 2018, 2019],\n",
        "    'City': ['Bangalore', 'Pune', np.nan, 'Bangalore', 'Pune', 'New Delhi', 'Bangalore', 'Pune'],\n",
        "    'PaymentTier': [3, 1, 3, np.nan, 3, 2, 1, 3],\n",
        "    'Age': [34, 28, 38, 27, 24, 32, np.nan, 30],\n",
        "    'Gender': ['Male', 'Female', 'Female', 'Male', 'Male', 'Female', 'Male', 'Female'],\n",
        "    'EverBenched': ['No', 'No', 'No', 'No', 'Yes', 'Yes', 'No', 'Yes'],\n",
        "    'ExperienceInCurrentDomain': [0, 3, 2, 5, 2, 4, 1, np.nan],\n",
        "    'LeaveOrNot': [0, 1, 0, 1, 1, 0, 1, 0],\n",
        "    'Salary': [70000, 55000, 60000, 80000, 75000, 85000, 90000, np.nan]\n",
        "})\n",
        "\n",
        "print(\"Sample Employee Data with Missing Values:\")\n",
        "print(employee_data)\n",
        "\n",
        "# 1. dropna: Dropping rows with any missing values\n",
        "dropped_data = employee_data.dropna()\n",
        "print(\"\\nData after dropping rows with missing values:\")\n",
        "print(dropped_data)\n",
        "\n",
        "# 2. fillna: Filling missing values with specific values\n",
        "# Filling missing values in 'Age' with the mean age and in 'Salary' with the median salary\n",
        "filled_data = employee_data.fillna({\n",
        "    'Age': employee_data['Age'].mean(),\n",
        "    'Salary': employee_data['Salary'].median(),\n",
        "    'JoiningYear': employee_data['JoiningYear'].mode()[0],\n",
        "    'PaymentTier': employee_data['PaymentTier'].mode()[0]\n",
        "})\n",
        "print(\"\\nData after filling missing values:\")\n",
        "print(filled_data)\n",
        "\n",
        "# 3. isnull: Checking for missing values in the DataFrame\n",
        "missing_check = employee_data.isnull()\n",
        "print(\"\\nBoolean DataFrame showing missing values:\")\n",
        "print(missing_check)\n",
        "\n",
        "# 4. notnull: Checking for non-missing values in the DataFrame\n",
        "non_missing_check = employee_data.notnull()\n",
        "print(\"\\nBoolean DataFrame showing non-missing values:\")\n",
        "print(non_missing_check)\n"
      ],
      "metadata": {
        "colab": {
          "base_uri": "https://localhost:8080/"
        },
        "id": "M1yrdwYjAW3J",
        "outputId": "cc887151-8e23-468b-ffe8-595986887237"
      },
      "execution_count": null,
      "outputs": [
        {
          "output_type": "stream",
          "name": "stdout",
          "text": [
            "Sample Employee Data with Missing Values:\n",
            "   Education  JoiningYear       City  PaymentTier   Age  Gender EverBenched  \\\n",
            "0  Bachelors       2017.0  Bangalore          3.0  34.0    Male          No   \n",
            "1  Bachelors       2013.0       Pune          1.0  28.0  Female          No   \n",
            "2  Bachelors       2014.0        NaN          3.0  38.0  Female          No   \n",
            "3    Masters       2016.0  Bangalore          NaN  27.0    Male          No   \n",
            "4        NaN       2017.0       Pune          3.0  24.0    Male         Yes   \n",
            "5        PhD          NaN  New Delhi          2.0  32.0  Female         Yes   \n",
            "6        PhD       2018.0  Bangalore          1.0   NaN    Male          No   \n",
            "7    Masters       2019.0       Pune          3.0  30.0  Female         Yes   \n",
            "\n",
            "   ExperienceInCurrentDomain  LeaveOrNot   Salary  \n",
            "0                        0.0           0  70000.0  \n",
            "1                        3.0           1  55000.0  \n",
            "2                        2.0           0  60000.0  \n",
            "3                        5.0           1  80000.0  \n",
            "4                        2.0           1  75000.0  \n",
            "5                        4.0           0  85000.0  \n",
            "6                        1.0           1  90000.0  \n",
            "7                        NaN           0      NaN  \n",
            "\n",
            "Data after dropping rows with missing values:\n",
            "   Education  JoiningYear       City  PaymentTier   Age  Gender EverBenched  \\\n",
            "0  Bachelors       2017.0  Bangalore          3.0  34.0    Male          No   \n",
            "1  Bachelors       2013.0       Pune          1.0  28.0  Female          No   \n",
            "\n",
            "   ExperienceInCurrentDomain  LeaveOrNot   Salary  \n",
            "0                        0.0           0  70000.0  \n",
            "1                        3.0           1  55000.0  \n",
            "\n",
            "Data after filling missing values:\n",
            "   Education  JoiningYear       City  PaymentTier        Age  Gender  \\\n",
            "0  Bachelors       2017.0  Bangalore          3.0  34.000000    Male   \n",
            "1  Bachelors       2013.0       Pune          1.0  28.000000  Female   \n",
            "2  Bachelors       2014.0        NaN          3.0  38.000000  Female   \n",
            "3    Masters       2016.0  Bangalore          3.0  27.000000    Male   \n",
            "4        NaN       2017.0       Pune          3.0  24.000000    Male   \n",
            "5        PhD       2017.0  New Delhi          2.0  32.000000  Female   \n",
            "6        PhD       2018.0  Bangalore          1.0  30.428571    Male   \n",
            "7    Masters       2019.0       Pune          3.0  30.000000  Female   \n",
            "\n",
            "  EverBenched  ExperienceInCurrentDomain  LeaveOrNot   Salary  \n",
            "0          No                        0.0           0  70000.0  \n",
            "1          No                        3.0           1  55000.0  \n",
            "2          No                        2.0           0  60000.0  \n",
            "3          No                        5.0           1  80000.0  \n",
            "4         Yes                        2.0           1  75000.0  \n",
            "5         Yes                        4.0           0  85000.0  \n",
            "6          No                        1.0           1  90000.0  \n",
            "7         Yes                        NaN           0  75000.0  \n",
            "\n",
            "Boolean DataFrame showing missing values:\n",
            "   Education  JoiningYear   City  PaymentTier    Age  Gender  EverBenched  \\\n",
            "0      False        False  False        False  False   False        False   \n",
            "1      False        False  False        False  False   False        False   \n",
            "2      False        False   True        False  False   False        False   \n",
            "3      False        False  False         True  False   False        False   \n",
            "4       True        False  False        False  False   False        False   \n",
            "5      False         True  False        False  False   False        False   \n",
            "6      False        False  False        False   True   False        False   \n",
            "7      False        False  False        False  False   False        False   \n",
            "\n",
            "   ExperienceInCurrentDomain  LeaveOrNot  Salary  \n",
            "0                      False       False   False  \n",
            "1                      False       False   False  \n",
            "2                      False       False   False  \n",
            "3                      False       False   False  \n",
            "4                      False       False   False  \n",
            "5                      False       False   False  \n",
            "6                      False       False   False  \n",
            "7                       True       False    True  \n",
            "\n",
            "Boolean DataFrame showing non-missing values:\n",
            "   Education  JoiningYear   City  PaymentTier    Age  Gender  EverBenched  \\\n",
            "0       True         True   True         True   True    True         True   \n",
            "1       True         True   True         True   True    True         True   \n",
            "2       True         True  False         True   True    True         True   \n",
            "3       True         True   True        False   True    True         True   \n",
            "4      False         True   True         True   True    True         True   \n",
            "5       True        False   True         True   True    True         True   \n",
            "6       True         True   True         True  False    True         True   \n",
            "7       True         True   True         True   True    True         True   \n",
            "\n",
            "   ExperienceInCurrentDomain  LeaveOrNot  Salary  \n",
            "0                       True        True    True  \n",
            "1                       True        True    True  \n",
            "2                       True        True    True  \n",
            "3                       True        True    True  \n",
            "4                       True        True    True  \n",
            "5                       True        True    True  \n",
            "6                       True        True    True  \n",
            "7                      False        True   False  \n"
          ]
        }
      ]
    },
    {
      "cell_type": "markdown",
      "source": [
        "Data cleaning"
      ],
      "metadata": {
        "id": "nNesyTiWCdCo"
      }
    },
    {
      "cell_type": "code",
      "source": [
        "# 1. dropna: Dropping columns where all values are missing\n",
        "dropped_data = employee_data.dropna(axis=1, how='all')\n",
        "print(\"\\nData after dropping columns with all missing values:\")\n",
        "print(dropped_data)\n",
        "\n",
        "# 2. fillna with different methods:\n",
        "# (a) Filling missing values with a constant value\n",
        "filled_constant = dropped_data.fillna(value=0)\n",
        "print(\"\\nData after filling missing values with a constant (0):\")\n",
        "print(filled_constant)\n",
        "\n",
        "# (b) Forward fill (ffill) - fills the missing value with the previous row's value\n",
        "filled_ffill = dropped_data.fillna(method='ffill')\n",
        "print(\"\\nData after forward fill (ffill):\")\n",
        "print(filled_ffill)\n",
        "\n",
        "# (c) Backward fill (bfill) - fills the missing value with the next row's value\n",
        "filled_bfill = dropped_data.fillna(method='bfill')\n",
        "print(\"\\nData after backward fill (bfill):\")\n",
        "print(filled_bfill)\n",
        "\n",
        "# (d) Filling missing values with the mean for numerical columns\n",
        "filled_mean = dropped_data.fillna(dropped_data.mean(numeric_only=True))\n",
        "print(\"\\nData after filling missing values with the mean of each column:\")\n",
        "print(filled_mean)\n",
        "\n",
        "# (e) Filling missing values with the median for numerical columns\n",
        "filled_median = dropped_data.fillna(dropped_data.median(numeric_only=True))\n",
        "print(\"\\nData after filling missing values with the median of each column:\")\n",
        "print(filled_median)\n",
        "\n",
        "# (f) Filling missing values with the mode for categorical columns\n",
        "filled_mode = dropped_data.apply(lambda col: col.fillna(col.mode()[0]) if col.dtype == 'object' else col)\n",
        "print(\"\\nData after filling missing values with the mode (most frequent) of each column:\")\n",
        "print(filled_mode)"
      ],
      "metadata": {
        "colab": {
          "base_uri": "https://localhost:8080/"
        },
        "id": "tkUv9dxbCY44",
        "outputId": "b2af0c80-3c18-4c4e-dfa0-a55cdfb1ba6f"
      },
      "execution_count": null,
      "outputs": [
        {
          "output_type": "stream",
          "name": "stdout",
          "text": [
            "\n",
            "Data after dropping columns with all missing values:\n",
            "   Education  JoiningYear       City  PaymentTier   Age  Gender EverBenched  \\\n",
            "0  Bachelors       2017.0  Bangalore          3.0  34.0    Male          No   \n",
            "1  Bachelors       2013.0       Pune          1.0  28.0  Female          No   \n",
            "2  Bachelors       2014.0        NaN          3.0  38.0  Female          No   \n",
            "3    Masters       2016.0  Bangalore          NaN  27.0    Male          No   \n",
            "4        NaN       2017.0       Pune          3.0  24.0    Male         Yes   \n",
            "5        PhD          NaN  New Delhi          2.0  32.0  Female         Yes   \n",
            "6        PhD       2018.0  Bangalore          1.0   NaN    Male          No   \n",
            "7    Masters       2019.0       Pune          3.0  30.0  Female         Yes   \n",
            "\n",
            "   ExperienceInCurrentDomain  LeaveOrNot   Salary  \n",
            "0                        0.0           0  70000.0  \n",
            "1                        3.0           1  55000.0  \n",
            "2                        2.0           0  60000.0  \n",
            "3                        5.0           1  80000.0  \n",
            "4                        2.0           1  75000.0  \n",
            "5                        4.0           0  85000.0  \n",
            "6                        1.0           1  90000.0  \n",
            "7                        NaN           0      NaN  \n",
            "\n",
            "Data after filling missing values with a constant (0):\n",
            "   Education  JoiningYear       City  PaymentTier   Age  Gender EverBenched  \\\n",
            "0  Bachelors       2017.0  Bangalore          3.0  34.0    Male          No   \n",
            "1  Bachelors       2013.0       Pune          1.0  28.0  Female          No   \n",
            "2  Bachelors       2014.0          0          3.0  38.0  Female          No   \n",
            "3    Masters       2016.0  Bangalore          0.0  27.0    Male          No   \n",
            "4          0       2017.0       Pune          3.0  24.0    Male         Yes   \n",
            "5        PhD          0.0  New Delhi          2.0  32.0  Female         Yes   \n",
            "6        PhD       2018.0  Bangalore          1.0   0.0    Male          No   \n",
            "7    Masters       2019.0       Pune          3.0  30.0  Female         Yes   \n",
            "\n",
            "   ExperienceInCurrentDomain  LeaveOrNot   Salary  \n",
            "0                        0.0           0  70000.0  \n",
            "1                        3.0           1  55000.0  \n",
            "2                        2.0           0  60000.0  \n",
            "3                        5.0           1  80000.0  \n",
            "4                        2.0           1  75000.0  \n",
            "5                        4.0           0  85000.0  \n",
            "6                        1.0           1  90000.0  \n",
            "7                        0.0           0      0.0  \n",
            "\n",
            "Data after forward fill (ffill):\n",
            "   Education  JoiningYear       City  PaymentTier   Age  Gender EverBenched  \\\n",
            "0  Bachelors       2017.0  Bangalore          3.0  34.0    Male          No   \n",
            "1  Bachelors       2013.0       Pune          1.0  28.0  Female          No   \n",
            "2  Bachelors       2014.0       Pune          3.0  38.0  Female          No   \n",
            "3    Masters       2016.0  Bangalore          3.0  27.0    Male          No   \n",
            "4    Masters       2017.0       Pune          3.0  24.0    Male         Yes   \n",
            "5        PhD       2017.0  New Delhi          2.0  32.0  Female         Yes   \n",
            "6        PhD       2018.0  Bangalore          1.0  32.0    Male          No   \n",
            "7    Masters       2019.0       Pune          3.0  30.0  Female         Yes   \n",
            "\n",
            "   ExperienceInCurrentDomain  LeaveOrNot   Salary  \n",
            "0                        0.0           0  70000.0  \n",
            "1                        3.0           1  55000.0  \n",
            "2                        2.0           0  60000.0  \n",
            "3                        5.0           1  80000.0  \n",
            "4                        2.0           1  75000.0  \n",
            "5                        4.0           0  85000.0  \n",
            "6                        1.0           1  90000.0  \n",
            "7                        1.0           0  90000.0  \n",
            "\n",
            "Data after backward fill (bfill):\n",
            "   Education  JoiningYear       City  PaymentTier   Age  Gender EverBenched  \\\n",
            "0  Bachelors       2017.0  Bangalore          3.0  34.0    Male          No   \n",
            "1  Bachelors       2013.0       Pune          1.0  28.0  Female          No   \n",
            "2  Bachelors       2014.0  Bangalore          3.0  38.0  Female          No   \n",
            "3    Masters       2016.0  Bangalore          3.0  27.0    Male          No   \n",
            "4        PhD       2017.0       Pune          3.0  24.0    Male         Yes   \n",
            "5        PhD       2018.0  New Delhi          2.0  32.0  Female         Yes   \n",
            "6        PhD       2018.0  Bangalore          1.0  30.0    Male          No   \n",
            "7    Masters       2019.0       Pune          3.0  30.0  Female         Yes   \n",
            "\n",
            "   ExperienceInCurrentDomain  LeaveOrNot   Salary  \n",
            "0                        0.0           0  70000.0  \n",
            "1                        3.0           1  55000.0  \n",
            "2                        2.0           0  60000.0  \n",
            "3                        5.0           1  80000.0  \n",
            "4                        2.0           1  75000.0  \n",
            "5                        4.0           0  85000.0  \n",
            "6                        1.0           1  90000.0  \n",
            "7                        NaN           0      NaN  \n",
            "\n",
            "Data after filling missing values with the mean of each column:\n",
            "   Education  JoiningYear       City  PaymentTier        Age  Gender  \\\n",
            "0  Bachelors  2017.000000  Bangalore     3.000000  34.000000    Male   \n",
            "1  Bachelors  2013.000000       Pune     1.000000  28.000000  Female   \n",
            "2  Bachelors  2014.000000        NaN     3.000000  38.000000  Female   \n",
            "3    Masters  2016.000000  Bangalore     2.285714  27.000000    Male   \n",
            "4        NaN  2017.000000       Pune     3.000000  24.000000    Male   \n",
            "5        PhD  2016.285714  New Delhi     2.000000  32.000000  Female   \n",
            "6        PhD  2018.000000  Bangalore     1.000000  30.428571    Male   \n",
            "7    Masters  2019.000000       Pune     3.000000  30.000000  Female   \n",
            "\n",
            "  EverBenched  ExperienceInCurrentDomain  LeaveOrNot        Salary  \n",
            "0          No                   0.000000           0  70000.000000  \n",
            "1          No                   3.000000           1  55000.000000  \n",
            "2          No                   2.000000           0  60000.000000  \n",
            "3          No                   5.000000           1  80000.000000  \n",
            "4         Yes                   2.000000           1  75000.000000  \n",
            "5         Yes                   4.000000           0  85000.000000  \n",
            "6          No                   1.000000           1  90000.000000  \n",
            "7         Yes                   2.428571           0  73571.428571  \n",
            "\n",
            "Data after filling missing values with the median of each column:\n",
            "   Education  JoiningYear       City  PaymentTier   Age  Gender EverBenched  \\\n",
            "0  Bachelors       2017.0  Bangalore          3.0  34.0    Male          No   \n",
            "1  Bachelors       2013.0       Pune          1.0  28.0  Female          No   \n",
            "2  Bachelors       2014.0        NaN          3.0  38.0  Female          No   \n",
            "3    Masters       2016.0  Bangalore          3.0  27.0    Male          No   \n",
            "4        NaN       2017.0       Pune          3.0  24.0    Male         Yes   \n",
            "5        PhD       2017.0  New Delhi          2.0  32.0  Female         Yes   \n",
            "6        PhD       2018.0  Bangalore          1.0  30.0    Male          No   \n",
            "7    Masters       2019.0       Pune          3.0  30.0  Female         Yes   \n",
            "\n",
            "   ExperienceInCurrentDomain  LeaveOrNot   Salary  \n",
            "0                        0.0           0  70000.0  \n",
            "1                        3.0           1  55000.0  \n",
            "2                        2.0           0  60000.0  \n",
            "3                        5.0           1  80000.0  \n",
            "4                        2.0           1  75000.0  \n",
            "5                        4.0           0  85000.0  \n",
            "6                        1.0           1  90000.0  \n",
            "7                        2.0           0  75000.0  \n",
            "\n",
            "Data after filling missing values with the mode (most frequent) of each column:\n",
            "   Education  JoiningYear       City  PaymentTier   Age  Gender EverBenched  \\\n",
            "0  Bachelors       2017.0  Bangalore          3.0  34.0    Male          No   \n",
            "1  Bachelors       2013.0       Pune          1.0  28.0  Female          No   \n",
            "2  Bachelors       2014.0  Bangalore          3.0  38.0  Female          No   \n",
            "3    Masters       2016.0  Bangalore          NaN  27.0    Male          No   \n",
            "4  Bachelors       2017.0       Pune          3.0  24.0    Male         Yes   \n",
            "5        PhD          NaN  New Delhi          2.0  32.0  Female         Yes   \n",
            "6        PhD       2018.0  Bangalore          1.0   NaN    Male          No   \n",
            "7    Masters       2019.0       Pune          3.0  30.0  Female         Yes   \n",
            "\n",
            "   ExperienceInCurrentDomain  LeaveOrNot   Salary  \n",
            "0                        0.0           0  70000.0  \n",
            "1                        3.0           1  55000.0  \n",
            "2                        2.0           0  60000.0  \n",
            "3                        5.0           1  80000.0  \n",
            "4                        2.0           1  75000.0  \n",
            "5                        4.0           0  85000.0  \n",
            "6                        1.0           1  90000.0  \n",
            "7                        NaN           0      NaN  \n"
          ]
        },
        {
          "output_type": "stream",
          "name": "stderr",
          "text": [
            "<ipython-input-15-001894d8a476>:13: FutureWarning: DataFrame.fillna with 'method' is deprecated and will raise in a future version. Use obj.ffill() or obj.bfill() instead.\n",
            "  filled_ffill = dropped_data.fillna(method='ffill')\n",
            "<ipython-input-15-001894d8a476>:18: FutureWarning: DataFrame.fillna with 'method' is deprecated and will raise in a future version. Use obj.ffill() or obj.bfill() instead.\n",
            "  filled_bfill = dropped_data.fillna(method='bfill')\n"
          ]
        }
      ]
    },
    {
      "cell_type": "markdown",
      "source": [
        "fillna"
      ],
      "metadata": {
        "id": "nvhOgZKdC5vN"
      }
    },
    {
      "cell_type": "code",
      "source": [
        "# Filling missing values with specified values\n",
        "filled_value = data.fillna(value={\n",
        "    'Education': 'Unknown',\n",
        "    'JoiningYear': 2015,\n",
        "    'City': 'Unknown',\n",
        "    'PaymentTier': 2,\n",
        "    'Age': 30,\n",
        "    'Gender': 'Unknown',\n",
        "    'Salary': 55000\n",
        "})\n",
        "\n",
        "print(\"\\nFilled missing values with specified values:\")\n",
        "print(filled_value)\n"
      ],
      "metadata": {
        "colab": {
          "base_uri": "https://localhost:8080/"
        },
        "id": "4ZMFPpKMCg6j",
        "outputId": "06d17de6-d446-4280-cf4f-58ab35aa55a6"
      },
      "execution_count": null,
      "outputs": [
        {
          "output_type": "stream",
          "name": "stdout",
          "text": [
            "\n",
            "Filled missing values with specified values:\n",
            "      Education  JoiningYear       City  PaymentTier  Age  Gender EverBenched  \\\n",
            "0     Bachelors         2017  Bangalore            3   34    Male          No   \n",
            "1     Bachelors         2013       Pune            1   28  Female          No   \n",
            "2     Bachelors         2014  New Delhi            3   38  Female          No   \n",
            "3       Masters         2016  Bangalore            3   27    Male          No   \n",
            "4       Masters         2017       Pune            3   24    Male         Yes   \n",
            "...         ...          ...        ...          ...  ...     ...         ...   \n",
            "4648  Bachelors         2013  Bangalore            3   26  Female          No   \n",
            "4649    Masters         2013       Pune            2   37    Male          No   \n",
            "4650    Masters         2018  New Delhi            3   27    Male          No   \n",
            "4651  Bachelors         2012  Bangalore            3   30    Male         Yes   \n",
            "4652  Bachelors         2015  Bangalore            3   33    Male         Yes   \n",
            "\n",
            "      ExperienceInCurrentDomain  LeaveOrNot  \n",
            "0                             0           0  \n",
            "1                             3           1  \n",
            "2                             2           0  \n",
            "3                             5           1  \n",
            "4                             2           1  \n",
            "...                         ...         ...  \n",
            "4648                          4           0  \n",
            "4649                          2           1  \n",
            "4650                          5           1  \n",
            "4651                          2           0  \n",
            "4652                          4           0  \n",
            "\n",
            "[4653 rows x 9 columns]\n"
          ]
        }
      ]
    },
    {
      "cell_type": "markdown",
      "source": [
        "ffill and bfill"
      ],
      "metadata": {
        "id": "s5M7MjYbDAs0"
      }
    },
    {
      "cell_type": "code",
      "source": [
        "# Forward fill: fills missing values with the last known non-null value\n",
        "filled_ffill = data.fillna(method='ffill')\n",
        "print(\"\\nForward fill (ffill):\")\n",
        "print(filled_ffill)\n",
        "\n",
        "# Backward fill: fills missing values with the next known non-null value\n",
        "filled_bfill = data.fillna(method='bfill')\n",
        "print(\"\\nBackward fill (bfill):\")\n",
        "print(filled_bfill)\n"
      ],
      "metadata": {
        "colab": {
          "base_uri": "https://localhost:8080/"
        },
        "id": "kdPVzLjwCgzP",
        "outputId": "bfcb9610-6589-4547-a00f-82aba7a1b177"
      },
      "execution_count": null,
      "outputs": [
        {
          "output_type": "stream",
          "name": "stdout",
          "text": [
            "\n",
            "Forward fill (ffill):\n",
            "      Education  JoiningYear       City  PaymentTier  Age  Gender EverBenched  \\\n",
            "0     Bachelors         2017  Bangalore            3   34    Male          No   \n",
            "1     Bachelors         2013       Pune            1   28  Female          No   \n",
            "2     Bachelors         2014  New Delhi            3   38  Female          No   \n",
            "3       Masters         2016  Bangalore            3   27    Male          No   \n",
            "4       Masters         2017       Pune            3   24    Male         Yes   \n",
            "...         ...          ...        ...          ...  ...     ...         ...   \n",
            "4648  Bachelors         2013  Bangalore            3   26  Female          No   \n",
            "4649    Masters         2013       Pune            2   37    Male          No   \n",
            "4650    Masters         2018  New Delhi            3   27    Male          No   \n",
            "4651  Bachelors         2012  Bangalore            3   30    Male         Yes   \n",
            "4652  Bachelors         2015  Bangalore            3   33    Male         Yes   \n",
            "\n",
            "      ExperienceInCurrentDomain  LeaveOrNot  \n",
            "0                             0           0  \n",
            "1                             3           1  \n",
            "2                             2           0  \n",
            "3                             5           1  \n",
            "4                             2           1  \n",
            "...                         ...         ...  \n",
            "4648                          4           0  \n",
            "4649                          2           1  \n",
            "4650                          5           1  \n",
            "4651                          2           0  \n",
            "4652                          4           0  \n",
            "\n",
            "[4653 rows x 9 columns]\n",
            "\n",
            "Backward fill (bfill):\n",
            "      Education  JoiningYear       City  PaymentTier  Age  Gender EverBenched  \\\n",
            "0     Bachelors         2017  Bangalore            3   34    Male          No   \n",
            "1     Bachelors         2013       Pune            1   28  Female          No   \n",
            "2     Bachelors         2014  New Delhi            3   38  Female          No   \n",
            "3       Masters         2016  Bangalore            3   27    Male          No   \n",
            "4       Masters         2017       Pune            3   24    Male         Yes   \n",
            "...         ...          ...        ...          ...  ...     ...         ...   \n",
            "4648  Bachelors         2013  Bangalore            3   26  Female          No   \n",
            "4649    Masters         2013       Pune            2   37    Male          No   \n",
            "4650    Masters         2018  New Delhi            3   27    Male          No   \n",
            "4651  Bachelors         2012  Bangalore            3   30    Male         Yes   \n",
            "4652  Bachelors         2015  Bangalore            3   33    Male         Yes   \n",
            "\n",
            "      ExperienceInCurrentDomain  LeaveOrNot  \n",
            "0                             0           0  \n",
            "1                             3           1  \n",
            "2                             2           0  \n",
            "3                             5           1  \n",
            "4                             2           1  \n",
            "...                         ...         ...  \n",
            "4648                          4           0  \n",
            "4649                          2           1  \n",
            "4650                          5           1  \n",
            "4651                          2           0  \n",
            "4652                          4           0  \n",
            "\n",
            "[4653 rows x 9 columns]\n"
          ]
        },
        {
          "output_type": "stream",
          "name": "stderr",
          "text": [
            "<ipython-input-17-481e5af0bb19>:2: FutureWarning: DataFrame.fillna with 'method' is deprecated and will raise in a future version. Use obj.ffill() or obj.bfill() instead.\n",
            "  filled_ffill = data.fillna(method='ffill')\n",
            "<ipython-input-17-481e5af0bb19>:7: FutureWarning: DataFrame.fillna with 'method' is deprecated and will raise in a future version. Use obj.ffill() or obj.bfill() instead.\n",
            "  filled_bfill = data.fillna(method='bfill')\n"
          ]
        }
      ]
    },
    {
      "cell_type": "code",
      "source": [
        "# Row-wise fill: fills missing values across rows\n",
        "filled_row_wise = data.fillna(method='ffill', axis=1)\n",
        "print(\"\\nRow-wise forward fill (axis=1):\")\n",
        "print(filled_row_wise)\n"
      ],
      "metadata": {
        "colab": {
          "base_uri": "https://localhost:8080/"
        },
        "id": "zf9VuDiwDJZr",
        "outputId": "dbf26ac5-fa9c-4ade-8980-12f22151aaaa"
      },
      "execution_count": null,
      "outputs": [
        {
          "output_type": "stream",
          "name": "stderr",
          "text": [
            "<ipython-input-19-1b0b13eff015>:2: FutureWarning: DataFrame.fillna with 'method' is deprecated and will raise in a future version. Use obj.ffill() or obj.bfill() instead.\n",
            "  filled_row_wise = data.fillna(method='ffill', axis=1)\n"
          ]
        },
        {
          "output_type": "stream",
          "name": "stdout",
          "text": [
            "\n",
            "Row-wise forward fill (axis=1):\n",
            "      Education JoiningYear       City PaymentTier Age  Gender EverBenched  \\\n",
            "0     Bachelors        2017  Bangalore           3  34    Male          No   \n",
            "1     Bachelors        2013       Pune           1  28  Female          No   \n",
            "2     Bachelors        2014  New Delhi           3  38  Female          No   \n",
            "3       Masters        2016  Bangalore           3  27    Male          No   \n",
            "4       Masters        2017       Pune           3  24    Male         Yes   \n",
            "...         ...         ...        ...         ...  ..     ...         ...   \n",
            "4648  Bachelors        2013  Bangalore           3  26  Female          No   \n",
            "4649    Masters        2013       Pune           2  37    Male          No   \n",
            "4650    Masters        2018  New Delhi           3  27    Male          No   \n",
            "4651  Bachelors        2012  Bangalore           3  30    Male         Yes   \n",
            "4652  Bachelors        2015  Bangalore           3  33    Male         Yes   \n",
            "\n",
            "     ExperienceInCurrentDomain LeaveOrNot  \n",
            "0                            0          0  \n",
            "1                            3          1  \n",
            "2                            2          0  \n",
            "3                            5          1  \n",
            "4                            2          1  \n",
            "...                        ...        ...  \n",
            "4648                         4          0  \n",
            "4649                         2          1  \n",
            "4650                         5          1  \n",
            "4651                         2          0  \n",
            "4652                         4          0  \n",
            "\n",
            "[4653 rows x 9 columns]\n"
          ]
        }
      ]
    },
    {
      "cell_type": "code",
      "source": [
        "# Filling missing values in place; original DataFrame is modified\n",
        "data.fillna(value={'Salary': 50000}, inplace=True)\n",
        "print(\"\\nIn-place fill for missing Salary with 50000:\")\n",
        "print(data)\n"
      ],
      "metadata": {
        "colab": {
          "base_uri": "https://localhost:8080/"
        },
        "id": "sN5_Bv8XDJRt",
        "outputId": "73a9f691-8b59-4323-a09f-5785e523b0f4"
      },
      "execution_count": null,
      "outputs": [
        {
          "output_type": "stream",
          "name": "stdout",
          "text": [
            "\n",
            "In-place fill for missing Salary with 50000:\n",
            "      Education  JoiningYear       City  PaymentTier  Age  Gender EverBenched  \\\n",
            "0     Bachelors         2017  Bangalore            3   34    Male          No   \n",
            "1     Bachelors         2013       Pune            1   28  Female          No   \n",
            "2     Bachelors         2014  New Delhi            3   38  Female          No   \n",
            "3       Masters         2016  Bangalore            3   27    Male          No   \n",
            "4       Masters         2017       Pune            3   24    Male         Yes   \n",
            "...         ...          ...        ...          ...  ...     ...         ...   \n",
            "4648  Bachelors         2013  Bangalore            3   26  Female          No   \n",
            "4649    Masters         2013       Pune            2   37    Male          No   \n",
            "4650    Masters         2018  New Delhi            3   27    Male          No   \n",
            "4651  Bachelors         2012  Bangalore            3   30    Male         Yes   \n",
            "4652  Bachelors         2015  Bangalore            3   33    Male         Yes   \n",
            "\n",
            "      ExperienceInCurrentDomain  LeaveOrNot  \n",
            "0                             0           0  \n",
            "1                             3           1  \n",
            "2                             2           0  \n",
            "3                             5           1  \n",
            "4                             2           1  \n",
            "...                         ...         ...  \n",
            "4648                          4           0  \n",
            "4649                          2           1  \n",
            "4650                          5           1  \n",
            "4651                          2           0  \n",
            "4652                          4           0  \n",
            "\n",
            "[4653 rows x 9 columns]\n"
          ]
        }
      ]
    },
    {
      "cell_type": "markdown",
      "source": [
        "**Data Transformation**"
      ],
      "metadata": {
        "id": "kSdwLZNMDpuR"
      }
    },
    {
      "cell_type": "code",
      "source": [
        "# Check for duplicate rows\n",
        "duplicates = employee_data.duplicated()\n",
        "print(\"Duplicate Rows:\")\n",
        "print(duplicates)\n",
        "\n",
        "# Drop duplicate rows\n",
        "employee_data_cleaned = employee_data.drop_duplicates()\n",
        "\n",
        "# Display the cleaned dataset\n",
        "print(\"\\nCleaned Employee Data:\")\n",
        "print(employee_data_cleaned)"
      ],
      "metadata": {
        "colab": {
          "base_uri": "https://localhost:8080/"
        },
        "id": "9seLbX93DJMQ",
        "outputId": "35dd0873-cd68-4ec1-e40c-2038f2e2fc07"
      },
      "execution_count": null,
      "outputs": [
        {
          "output_type": "stream",
          "name": "stdout",
          "text": [
            "Duplicate Rows:\n",
            "0    False\n",
            "1    False\n",
            "2    False\n",
            "3    False\n",
            "4    False\n",
            "5    False\n",
            "6    False\n",
            "7    False\n",
            "dtype: bool\n",
            "\n",
            "Cleaned Employee Data:\n",
            "   Education  JoiningYear       City  PaymentTier   Age  Gender EverBenched  \\\n",
            "0  Bachelors       2017.0  Bangalore          3.0  34.0    Male          No   \n",
            "1  Bachelors       2013.0       Pune          1.0  28.0  Female          No   \n",
            "2  Bachelors       2014.0        NaN          3.0  38.0  Female          No   \n",
            "3    Masters       2016.0  Bangalore          NaN  27.0    Male          No   \n",
            "4        NaN       2017.0       Pune          3.0  24.0    Male         Yes   \n",
            "5        PhD          NaN  New Delhi          2.0  32.0  Female         Yes   \n",
            "6        PhD       2018.0  Bangalore          1.0   NaN    Male          No   \n",
            "7    Masters       2019.0       Pune          3.0  30.0  Female         Yes   \n",
            "\n",
            "   ExperienceInCurrentDomain  LeaveOrNot   Salary  \n",
            "0                        0.0           0  70000.0  \n",
            "1                        3.0           1  55000.0  \n",
            "2                        2.0           0  60000.0  \n",
            "3                        5.0           1  80000.0  \n",
            "4                        2.0           1  75000.0  \n",
            "5                        4.0           0  85000.0  \n",
            "6                        1.0           1  90000.0  \n",
            "7                        NaN           0      NaN  \n"
          ]
        }
      ]
    },
    {
      "cell_type": "markdown",
      "source": [
        "**Transforming Data Using a Function or Mapping **"
      ],
      "metadata": {
        "id": "SvkV51YXD6Yf"
      }
    },
    {
      "cell_type": "code",
      "source": [
        "# Function to categorize age\n",
        "def categorize_age(age):\n",
        "    if pd.isna(age):\n",
        "        return 'Unknown'\n",
        "    elif age < 25:\n",
        "        return 'Young'\n",
        "    elif 25 <= age < 35:\n",
        "        return 'Mid-age'\n",
        "    else:\n",
        "        return 'Senior'\n",
        "\n",
        "# Apply the function to the Age column\n",
        "employee_data['AgeCategory'] = employee_data['Age'].apply(categorize_age)\n",
        "\n",
        "print(\"Employee Data with Age Categories:\")\n",
        "print(employee_data)\n"
      ],
      "metadata": {
        "colab": {
          "base_uri": "https://localhost:8080/"
        },
        "id": "YmaIba4FDJEt",
        "outputId": "92fb89ba-ad3d-402a-9823-c8ddbb666c45"
      },
      "execution_count": null,
      "outputs": [
        {
          "output_type": "stream",
          "name": "stdout",
          "text": [
            "Employee Data with Age Categories:\n",
            "   Education  JoiningYear       City  PaymentTier   Age  Gender EverBenched  \\\n",
            "0  Bachelors       2017.0  Bangalore          3.0  34.0    Male          No   \n",
            "1  Bachelors       2013.0       Pune          1.0  28.0  Female          No   \n",
            "2  Bachelors       2014.0        NaN          3.0  38.0  Female          No   \n",
            "3    Masters       2016.0  Bangalore          NaN  27.0    Male          No   \n",
            "4        NaN       2017.0       Pune          3.0  24.0    Male         Yes   \n",
            "5        PhD          NaN  New Delhi          2.0  32.0  Female         Yes   \n",
            "6        PhD       2018.0  Bangalore          1.0   NaN    Male          No   \n",
            "7    Masters       2019.0       Pune          3.0  30.0  Female         Yes   \n",
            "\n",
            "   ExperienceInCurrentDomain  LeaveOrNot   Salary AgeCategory  \n",
            "0                        0.0           0  70000.0     Mid-age  \n",
            "1                        3.0           1  55000.0     Mid-age  \n",
            "2                        2.0           0  60000.0      Senior  \n",
            "3                        5.0           1  80000.0     Mid-age  \n",
            "4                        2.0           1  75000.0       Young  \n",
            "5                        4.0           0  85000.0     Mid-age  \n",
            "6                        1.0           1  90000.0     Unknown  \n",
            "7                        NaN           0      NaN     Mid-age  \n"
          ]
        }
      ]
    },
    {
      "cell_type": "code",
      "source": [
        "# Create a mapping dictionary\n",
        "payment_tier_mapping = {\n",
        "    1: 'Entry Level',\n",
        "    2: 'Mid Level',\n",
        "    3: 'Senior Level'\n",
        "}\n",
        "\n",
        "# Map values in the PaymentTier column\n",
        "employee_data['PaymentTierLabel'] = employee_data['PaymentTier'].map(payment_tier_mapping)\n",
        "\n",
        "print(\"\\nEmployee Data with Payment Tier Labels:\")\n",
        "print(employee_data)\n"
      ],
      "metadata": {
        "colab": {
          "base_uri": "https://localhost:8080/"
        },
        "id": "_wiCNC3LEDKH",
        "outputId": "95215b70-e30f-41c9-e297-a85990ba2018"
      },
      "execution_count": null,
      "outputs": [
        {
          "output_type": "stream",
          "name": "stdout",
          "text": [
            "\n",
            "Employee Data with Payment Tier Labels:\n",
            "   Education  JoiningYear       City  PaymentTier   Age  Gender EverBenched  \\\n",
            "0  Bachelors       2017.0  Bangalore          3.0  34.0    Male          No   \n",
            "1  Bachelors       2013.0       Pune          1.0  28.0  Female          No   \n",
            "2  Bachelors       2014.0        NaN          3.0  38.0  Female          No   \n",
            "3    Masters       2016.0  Bangalore          NaN  27.0    Male          No   \n",
            "4        NaN       2017.0       Pune          3.0  24.0    Male         Yes   \n",
            "5        PhD          NaN  New Delhi          2.0  32.0  Female         Yes   \n",
            "6        PhD       2018.0  Bangalore          1.0   NaN    Male          No   \n",
            "7    Masters       2019.0       Pune          3.0  30.0  Female         Yes   \n",
            "\n",
            "   ExperienceInCurrentDomain  LeaveOrNot   Salary AgeCategory PaymentTierLabel  \n",
            "0                        0.0           0  70000.0     Mid-age     Senior Level  \n",
            "1                        3.0           1  55000.0     Mid-age      Entry Level  \n",
            "2                        2.0           0  60000.0      Senior     Senior Level  \n",
            "3                        5.0           1  80000.0     Mid-age              NaN  \n",
            "4                        2.0           1  75000.0       Young     Senior Level  \n",
            "5                        4.0           0  85000.0     Mid-age        Mid Level  \n",
            "6                        1.0           1  90000.0     Unknown      Entry Level  \n",
            "7                        NaN           0      NaN     Mid-age     Senior Level  \n"
          ]
        }
      ]
    },
    {
      "cell_type": "code",
      "source": [
        "# Replace 'Yes'/'No' with 1/0 in the EverBenched column\n",
        "employee_data['EverBenched'] = employee_data['EverBenched'].replace({'Yes': 1, 'No': 0})\n",
        "\n",
        "print(\"\\nEmployee Data with EverBenched as Binary:\")\n",
        "print(employee_data)\n"
      ],
      "metadata": {
        "colab": {
          "base_uri": "https://localhost:8080/"
        },
        "id": "8vP1THNTEFFT",
        "outputId": "98d8d343-e089-4ec3-da06-652bff6da57a"
      },
      "execution_count": null,
      "outputs": [
        {
          "output_type": "stream",
          "name": "stdout",
          "text": [
            "\n",
            "Employee Data with EverBenched as Binary:\n",
            "   Education  JoiningYear       City  PaymentTier   Age  Gender  EverBenched  \\\n",
            "0  Bachelors       2017.0  Bangalore          3.0  34.0    Male            0   \n",
            "1  Bachelors       2013.0       Pune          1.0  28.0  Female            0   \n",
            "2  Bachelors       2014.0        NaN          3.0  38.0  Female            0   \n",
            "3    Masters       2016.0  Bangalore          NaN  27.0    Male            0   \n",
            "4        NaN       2017.0       Pune          3.0  24.0    Male            1   \n",
            "5        PhD          NaN  New Delhi          2.0  32.0  Female            1   \n",
            "6        PhD       2018.0  Bangalore          1.0   NaN    Male            0   \n",
            "7    Masters       2019.0       Pune          3.0  30.0  Female            1   \n",
            "\n",
            "   ExperienceInCurrentDomain  LeaveOrNot   Salary AgeCategory PaymentTierLabel  \n",
            "0                        0.0           0  70000.0     Mid-age     Senior Level  \n",
            "1                        3.0           1  55000.0     Mid-age      Entry Level  \n",
            "2                        2.0           0  60000.0      Senior     Senior Level  \n",
            "3                        5.0           1  80000.0     Mid-age              NaN  \n",
            "4                        2.0           1  75000.0       Young     Senior Level  \n",
            "5                        4.0           0  85000.0     Mid-age        Mid Level  \n",
            "6                        1.0           1  90000.0     Unknown      Entry Level  \n",
            "7                        NaN           0      NaN     Mid-age     Senior Level  \n"
          ]
        }
      ]
    },
    {
      "cell_type": "code",
      "source": [
        "# Rename specific columns\n",
        "employee_data_renamed = employee_data.rename(columns={\n",
        "    'Education': 'Degree',\n",
        "    'PaymentTier': 'Salary Tier',\n",
        "    'EverBenched': 'Has Been Benched'\n",
        "})\n",
        "\n",
        "# Display the renamed DataFrame\n",
        "print(\"Renamed Employee Data:\")\n",
        "print(employee_data_renamed)\n"
      ],
      "metadata": {
        "colab": {
          "base_uri": "https://localhost:8080/"
        },
        "id": "Nym4PFOkEFBx",
        "outputId": "9b4fa84a-9245-4e13-ca31-d8433535f30c"
      },
      "execution_count": null,
      "outputs": [
        {
          "output_type": "stream",
          "name": "stdout",
          "text": [
            "Renamed Employee Data:\n",
            "      Degree  JoiningYear       City  Salary Tier   Age  Gender  \\\n",
            "0  Bachelors       2017.0  Bangalore          3.0  34.0    Male   \n",
            "1  Bachelors       2013.0       Pune          1.0  28.0  Female   \n",
            "2  Bachelors       2014.0        NaN          3.0  38.0  Female   \n",
            "3    Masters       2016.0  Bangalore          NaN  27.0    Male   \n",
            "4        NaN       2017.0       Pune          3.0  24.0    Male   \n",
            "5        PhD          NaN  New Delhi          2.0  32.0  Female   \n",
            "6        PhD       2018.0  Bangalore          1.0   NaN    Male   \n",
            "7    Masters       2019.0       Pune          3.0  30.0  Female   \n",
            "\n",
            "   Has Been Benched  ExperienceInCurrentDomain  LeaveOrNot   Salary  \\\n",
            "0                 0                        0.0           0  70000.0   \n",
            "1                 0                        3.0           1  55000.0   \n",
            "2                 0                        2.0           0  60000.0   \n",
            "3                 0                        5.0           1  80000.0   \n",
            "4                 1                        2.0           1  75000.0   \n",
            "5                 1                        4.0           0  85000.0   \n",
            "6                 0                        1.0           1  90000.0   \n",
            "7                 1                        NaN           0      NaN   \n",
            "\n",
            "  AgeCategory PaymentTierLabel  \n",
            "0     Mid-age     Senior Level  \n",
            "1     Mid-age      Entry Level  \n",
            "2      Senior     Senior Level  \n",
            "3     Mid-age              NaN  \n",
            "4       Young     Senior Level  \n",
            "5     Mid-age        Mid Level  \n",
            "6     Unknown      Entry Level  \n",
            "7     Mid-age     Senior Level  \n"
          ]
        }
      ]
    },
    {
      "cell_type": "markdown",
      "source": [
        "**Discretization and Binning**"
      ],
      "metadata": {
        "id": "1JTAI3SREaZc"
      }
    },
    {
      "cell_type": "code",
      "source": [
        "# Define bin edges and labels\n",
        "bins = [20, 25, 30, 35, 40, 100]  # Define age bins\n",
        "labels = ['20-25', '26-30', '31-35', '36-40', '40+']  # Corresponding labels\n",
        "\n",
        "# Create a new column 'AgeGroup' by binning the 'Age' column\n",
        "employee_data['AgeGroup'] = pd.cut(employee_data['Age'], bins=bins, labels=labels, right=False)\n",
        "\n",
        "print(\"Employee Data with Age Groups:\")\n",
        "print(employee_data[['Age', 'AgeGroup']])\n"
      ],
      "metadata": {
        "colab": {
          "base_uri": "https://localhost:8080/"
        },
        "id": "ZoH-P7vHEE_j",
        "outputId": "163ccb0e-4024-4514-b254-9180f5e44ed0"
      },
      "execution_count": null,
      "outputs": [
        {
          "output_type": "stream",
          "name": "stdout",
          "text": [
            "Employee Data with Age Groups:\n",
            "    Age AgeGroup\n",
            "0  34.0    31-35\n",
            "1  28.0    26-30\n",
            "2  38.0    36-40\n",
            "3  27.0    26-30\n",
            "4  24.0    20-25\n",
            "5  32.0    31-35\n",
            "6   NaN      NaN\n",
            "7  30.0    31-35\n"
          ]
        }
      ]
    },
    {
      "cell_type": "code",
      "source": [
        "# Create quantile-based bins for the Salary column\n",
        "employee_data['SalaryGroup'] = pd.qcut(employee_data['Salary'], q=4, labels=['Q1', 'Q2', 'Q3', 'Q4'])\n",
        "\n",
        "print(\"\\nEmployee Data with Salary Groups:\")\n",
        "print(employee_data[['Salary', 'SalaryGroup']])\n"
      ],
      "metadata": {
        "colab": {
          "base_uri": "https://localhost:8080/"
        },
        "id": "_527-1fjEE8u",
        "outputId": "bbeeae42-e60c-488c-9269-030754ce4a8d"
      },
      "execution_count": null,
      "outputs": [
        {
          "output_type": "stream",
          "name": "stdout",
          "text": [
            "\n",
            "Employee Data with Salary Groups:\n",
            "    Salary SalaryGroup\n",
            "0  70000.0          Q2\n",
            "1  55000.0          Q1\n",
            "2  60000.0          Q1\n",
            "3  80000.0          Q3\n",
            "4  75000.0          Q2\n",
            "5  85000.0          Q4\n",
            "6  90000.0          Q4\n",
            "7      NaN         NaN\n"
          ]
        }
      ]
    },
    {
      "cell_type": "markdown",
      "source": [
        "**Detecting and Filtering Outliers**"
      ],
      "metadata": {
        "id": "wyqG4GOUEtwB"
      }
    },
    {
      "cell_type": "code",
      "source": [
        "# Calculate Q1 (25th percentile) and Q3 (75th percentile)\n",
        "Q1 = employee_data['Salary'].quantile(0.25)\n",
        "Q3 = employee_data['Salary'].quantile(0.75)\n",
        "IQR = Q3 - Q1\n",
        "\n",
        "# Define bounds for outliers\n",
        "lower_bound = Q1 - 1.5 * IQR\n",
        "upper_bound = Q3 + 1.5 * IQR\n",
        "\n",
        "# Detect outliers\n",
        "employee_data['Salary_Outlier'] = (employee_data['Salary'] < lower_bound) | (employee_data['Salary'] > upper_bound)\n",
        "\n",
        "print(\"Outliers in Salary detected using IQR:\")\n",
        "print(employee_data[['Salary', 'Salary_Outlier']])\n"
      ],
      "metadata": {
        "colab": {
          "base_uri": "https://localhost:8080/"
        },
        "id": "eObJx8LiEE6c",
        "outputId": "6309a527-c49b-4b2a-92f4-b41076ac7494"
      },
      "execution_count": null,
      "outputs": [
        {
          "output_type": "stream",
          "name": "stdout",
          "text": [
            "Outliers in Salary detected using IQR:\n",
            "    Salary  Salary_Outlier\n",
            "0  70000.0           False\n",
            "1  55000.0           False\n",
            "2  60000.0           False\n",
            "3  80000.0           False\n",
            "4  75000.0           False\n",
            "5  85000.0           False\n",
            "6  90000.0           False\n",
            "7      NaN           False\n"
          ]
        }
      ]
    },
    {
      "cell_type": "code",
      "source": [
        "# Filter out outliers based on the Salary_Outlier column\n",
        "filtered_employee_data = employee_data[~employee_data['Salary_Outlier']]\n",
        "\n",
        "print(\"\\nFiltered Employee Data (without outliers):\")\n",
        "print(filtered_employee_data)\n"
      ],
      "metadata": {
        "colab": {
          "base_uri": "https://localhost:8080/"
        },
        "id": "QWjzI4mfEE3a",
        "outputId": "f2ea3391-422b-4f05-b119-3d52294aa395"
      },
      "execution_count": null,
      "outputs": [
        {
          "output_type": "stream",
          "name": "stdout",
          "text": [
            "\n",
            "Filtered Employee Data (without outliers):\n",
            "   Education  JoiningYear       City  PaymentTier   Age  Gender  EverBenched  \\\n",
            "0  Bachelors       2017.0  Bangalore          3.0  34.0    Male            0   \n",
            "1  Bachelors       2013.0       Pune          1.0  28.0  Female            0   \n",
            "2  Bachelors       2014.0        NaN          3.0  38.0  Female            0   \n",
            "3    Masters       2016.0  Bangalore          NaN  27.0    Male            0   \n",
            "4        NaN       2017.0       Pune          3.0  24.0    Male            1   \n",
            "5        PhD          NaN  New Delhi          2.0  32.0  Female            1   \n",
            "6        PhD       2018.0  Bangalore          1.0   NaN    Male            0   \n",
            "7    Masters       2019.0       Pune          3.0  30.0  Female            1   \n",
            "\n",
            "   ExperienceInCurrentDomain  LeaveOrNot   Salary AgeCategory  \\\n",
            "0                        0.0           0  70000.0     Mid-age   \n",
            "1                        3.0           1  55000.0     Mid-age   \n",
            "2                        2.0           0  60000.0      Senior   \n",
            "3                        5.0           1  80000.0     Mid-age   \n",
            "4                        2.0           1  75000.0       Young   \n",
            "5                        4.0           0  85000.0     Mid-age   \n",
            "6                        1.0           1  90000.0     Unknown   \n",
            "7                        NaN           0      NaN     Mid-age   \n",
            "\n",
            "  PaymentTierLabel AgeGroup SalaryGroup  Salary_Outlier  \n",
            "0     Senior Level    31-35          Q2           False  \n",
            "1      Entry Level    26-30          Q1           False  \n",
            "2     Senior Level    36-40          Q1           False  \n",
            "3              NaN    26-30          Q3           False  \n",
            "4     Senior Level    20-25          Q2           False  \n",
            "5        Mid Level    31-35          Q4           False  \n",
            "6      Entry Level      NaN          Q4           False  \n",
            "7     Senior Level    31-35         NaN           False  \n"
          ]
        }
      ]
    },
    {
      "cell_type": "code",
      "source": [
        "from scipy import stats\n",
        "\n",
        "# Calculate Z-scores for Salary\n",
        "employee_data['Salary_ZScore'] = stats.zscore(employee_data['Salary'], nan_policy='omit')\n",
        "\n",
        "# Detect outliers based on Z-scores\n",
        "employee_data['Salary_ZOutlier'] = abs(employee_data['Salary_ZScore']) > 3\n",
        "\n",
        "print(\"\\nOutliers in Salary detected using Z-Scores:\")\n",
        "print(employee_data[['Salary', 'Salary_ZScore', 'Salary_ZOutlier']])\n"
      ],
      "metadata": {
        "colab": {
          "base_uri": "https://localhost:8080/"
        },
        "id": "GrPlR3plE5bx",
        "outputId": "948a7ab1-dfde-4b75-c732-1707fa5bb76b"
      },
      "execution_count": null,
      "outputs": [
        {
          "output_type": "stream",
          "name": "stdout",
          "text": [
            "\n",
            "Outliers in Salary detected using Z-Scores:\n",
            "    Salary  Salary_ZScore  Salary_ZOutlier\n",
            "0  70000.0      -0.300965            False\n",
            "1  55000.0      -1.565016            False\n",
            "2  60000.0      -1.143666            False\n",
            "3  80000.0       0.541736            False\n",
            "4  75000.0       0.120386            False\n",
            "5  85000.0       0.963087            False\n",
            "6  90000.0       1.384437            False\n",
            "7      NaN            NaN            False\n"
          ]
        }
      ]
    },
    {
      "cell_type": "markdown",
      "source": [
        "**String Manipulation**"
      ],
      "metadata": {
        "id": "uUUPTf6bFN8l"
      }
    },
    {
      "cell_type": "code",
      "source": [
        "# Applying string methods to the relevant columns\n",
        "\n",
        "# Lowercase the Education and City columns\n",
        "employee_data['Education_lower'] = employee_data['Education'].str.lower()\n",
        "employee_data['City_lower'] = employee_data['City'].str.lower()\n",
        "\n",
        "# Check if any strings in the City column contain 'bangalore'\n",
        "employee_data['City_contains_bangalore'] = employee_data['City'].str.contains('Bangalore', case=False)\n",
        "\n",
        "# Extract the first letter of Gender\n",
        "employee_data['Gender_initial'] = employee_data['Gender'].str[0]\n",
        "\n",
        "# Count occurrences of 'a' in the City column\n",
        "employee_data['City_a_count'] = employee_data['City'].str.count('a')\n",
        "\n",
        "# Check if Education starts with 'B'\n",
        "employee_data['Education_startswith_B'] = employee_data['Education'].str.startswith('B')\n",
        "\n",
        "# Check if City ends with 'e'\n",
        "employee_data['City_endswith_e'] = employee_data['City'].str.endswith('e')\n",
        "\n",
        "# Get length of Education column strings\n",
        "employee_data['Education_length'] = employee_data['Education'].str.len()\n",
        "\n",
        "# Split the City column by space (if any) and get the first part\n",
        "employee_data['City_split'] = employee_data['City'].str.split().str[0]\n",
        "\n",
        "# Strip any whitespace in Education (though there likely isn't any in this dataset)\n",
        "employee_data['Education_strip'] = employee_data['Education'].str.strip()\n",
        "\n",
        "# Apply lower() and upper() for gender\n",
        "employee_data['Gender_lower'] = employee_data['Gender'].str.lower()\n",
        "employee_data['Gender_upper'] = employee_data['Gender'].str.upper()\n",
        "\n",
        "# Display the updated DataFrame\n",
        "print(employee_data)"
      ],
      "metadata": {
        "colab": {
          "base_uri": "https://localhost:8080/"
        },
        "id": "BJOZcsxrE5ZI",
        "outputId": "eb3746c8-9da9-4748-ead6-76c123344c8d"
      },
      "execution_count": null,
      "outputs": [
        {
          "output_type": "stream",
          "name": "stdout",
          "text": [
            "   Education  JoiningYear       City  PaymentTier   Age  Gender  EverBenched  \\\n",
            "0  Bachelors       2017.0  Bangalore          3.0  34.0    Male            0   \n",
            "1  Bachelors       2013.0       Pune          1.0  28.0  Female            0   \n",
            "2  Bachelors       2014.0        NaN          3.0  38.0  Female            0   \n",
            "3    Masters       2016.0  Bangalore          NaN  27.0    Male            0   \n",
            "4        NaN       2017.0       Pune          3.0  24.0    Male            1   \n",
            "5        PhD          NaN  New Delhi          2.0  32.0  Female            1   \n",
            "6        PhD       2018.0  Bangalore          1.0   NaN    Male            0   \n",
            "7    Masters       2019.0       Pune          3.0  30.0  Female            1   \n",
            "\n",
            "   ExperienceInCurrentDomain  LeaveOrNot   Salary  ...  \\\n",
            "0                        0.0           0  70000.0  ...   \n",
            "1                        3.0           1  55000.0  ...   \n",
            "2                        2.0           0  60000.0  ...   \n",
            "3                        5.0           1  80000.0  ...   \n",
            "4                        2.0           1  75000.0  ...   \n",
            "5                        4.0           0  85000.0  ...   \n",
            "6                        1.0           1  90000.0  ...   \n",
            "7                        NaN           0      NaN  ...   \n",
            "\n",
            "  City_contains_bangalore Gender_initial City_a_count Education_startswith_B  \\\n",
            "0                    True              M          2.0                   True   \n",
            "1                   False              F          0.0                   True   \n",
            "2                     NaN              F          NaN                   True   \n",
            "3                    True              M          2.0                  False   \n",
            "4                   False              M          0.0                    NaN   \n",
            "5                   False              F          0.0                  False   \n",
            "6                    True              M          2.0                  False   \n",
            "7                   False              F          0.0                  False   \n",
            "\n",
            "   City_endswith_e  Education_length  City_split Education_strip Gender_lower  \\\n",
            "0             True               9.0   Bangalore       Bachelors         male   \n",
            "1             True               9.0        Pune       Bachelors       female   \n",
            "2              NaN               9.0         NaN       Bachelors       female   \n",
            "3             True               7.0   Bangalore         Masters         male   \n",
            "4             True               NaN        Pune             NaN         male   \n",
            "5            False               3.0         New             PhD       female   \n",
            "6             True               3.0   Bangalore             PhD         male   \n",
            "7             True               7.0        Pune         Masters       female   \n",
            "\n",
            "  Gender_upper  \n",
            "0         MALE  \n",
            "1       FEMALE  \n",
            "2       FEMALE  \n",
            "3         MALE  \n",
            "4         MALE  \n",
            "5       FEMALE  \n",
            "6         MALE  \n",
            "7       FEMALE  \n",
            "\n",
            "[8 rows x 29 columns]\n"
          ]
        }
      ]
    }
  ]
}