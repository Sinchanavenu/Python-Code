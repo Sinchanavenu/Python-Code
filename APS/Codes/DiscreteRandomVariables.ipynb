{
  "nbformat": 4,
  "nbformat_minor": 0,
  "metadata": {
    "kernelspec": {
      "display_name": "R",
      "language": "R",
      "name": "ir"
    },
    "language_info": {
      "codemirror_mode": "r",
      "file_extension": ".r",
      "mimetype": "text/x-r-source",
      "name": "R",
      "pygments_lexer": "r",
      "version": "3.3.1"
    },
    "colab": {
      "provenance": []
    }
  },
  "cells": [
    {
      "cell_type": "code",
      "metadata": {
        "id": "UUKyea-RwmZy",
        "colab": {
          "base_uri": "https://localhost:8080/"
        },
        "outputId": "f7783ef3-ee2d-428d-b14b-34bbb0ba5485"
      },
      "source": [
        "library(ggplot2)\n",
        "library(dplyr)"
      ],
      "execution_count": null,
      "outputs": [
        {
          "output_type": "stream",
          "name": "stderr",
          "text": [
            "\n",
            "Attaching package: ‘dplyr’\n",
            "\n",
            "\n",
            "The following objects are masked from ‘package:stats’:\n",
            "\n",
            "    filter, lag\n",
            "\n",
            "\n",
            "The following objects are masked from ‘package:base’:\n",
            "\n",
            "    intersect, setdiff, setequal, union\n",
            "\n",
            "\n"
          ]
        }
      ]
    },
    {
      "cell_type": "markdown",
      "source": [
        "---\n",
        "\n",
        "Set theme for ggplot plots\n",
        "\n",
        "---"
      ],
      "metadata": {
        "id": "f8M1BEgEwGYl"
      }
    },
    {
      "cell_type": "code",
      "source": [
        "# Set ggplot theme for plotting\n",
        "My_Theme = theme(axis.text.x = element_text(size = 9),\n",
        "   axis.text.y = element_text(size = 9),\n",
        "   axis.title.x = element_text(size = 11),\n",
        "   axis.title.y = element_text(size = 11),\n",
        "   plot.title = element_text(size = 12, hjust = 0.5, face = \"bold\"))"
      ],
      "metadata": {
        "id": "OstsgJ4wwG5R"
      },
      "execution_count": null,
      "outputs": []
    },
    {
      "cell_type": "markdown",
      "source": [
        "---\n",
        "\n",
        "**Scenario**: A salesman has scheduled two appointments to sell software, one in the morning and another one in the afternoon. There are two software\n",
        "editions available: the base edition costing Rs. 5000 and the premium edition costing Rs. 10000. His morning appointments typically lead\n",
        "to a sale with a 30% chance while the afternoon ones typically lead to a sale with a 60% chance independent of what happened in the\n",
        "morning. If the morning appointment ends up in sale, the salesman has a 70% chance of selling the premium edition and if the afternoon\n",
        "appointment ends up in a sale, he is equally likely to sell either of the editions. Let X be the random variable representing the total Rupee\n",
        "value of sales. What are the different values that X can take? Calculate the probability that X takes the value 5000?\n",
        "\n",
        "---"
      ],
      "metadata": {
        "id": "QLWjwkAMSD6w"
      }
    },
    {
      "cell_type": "code",
      "source": [
        "# Sampling space for appointment success (0 corresponds to no sale, 1 corresponds to a sale)\n",
        "s_appointment = c(0, 1)\n",
        "\n",
        "# Appointment success and failure probabilities\n",
        "p_morning = 0.3 # Success probability of sales in morning\n",
        "p_afternoon =  0.6 # Success probability of sales in afternoon\n",
        "p_appointment = matrix(nrow = 2, ncol = 2, c(1-p_morning, p_morning, 1-p_afternoon, p_afternoon), byrow = TRUE)\n",
        "\n",
        "# Sampling space for software type\n",
        "s_software = c(5000, 10000)\n",
        "\n",
        "# Software type probabilities\n",
        "p_software = matrix(nrow = 2, ncol = 2, c(0.3, 0.7, 0.5, 0.5), byrow = TRUE)\n",
        "\n",
        "# Function that simulates one trial of the random experiment which is\n",
        "# what the salesman earns on a random day\n",
        "salesResult = function(){\n",
        "  result = numeric(2)\n",
        "  # Simulate whether sales happen in morning and afternoon appointments\n",
        "  for (j in c(1:2)){\n",
        "    result[j] = sample(s_appointment, size = 1, replace = TRUE, prob = p_appointment[j, ])\n",
        "  }\n",
        "  earnings = ifelse(result[1] == 1, sample(s_software, size = 1, replace = TRUE, prob = p_software[1, ]), 0) + ifelse(result[2] == 1, sample(s_software, size = 1, replace = TRUE, prob = p_software[2, ]), 0)\n",
        "  return(earnings)\n",
        "}\n",
        "\n",
        "# Number of simulations\n",
        "nsimulations = 1e5\n",
        "simulatedData = replicate(nsimulations, salesResult())\n",
        "\n",
        "# Probability that the salesman earns Rs 5000\n",
        "mean(simulatedData == 5000)\n",
        "\n",
        "\n",
        "# Can we calculate all the probabilities in one shot?\n",
        "table(simulatedData) / nsimulations\n"
      ],
      "metadata": {
        "id": "04FFyHVr05Ug"
      },
      "execution_count": null,
      "outputs": []
    },
    {
      "cell_type": "markdown",
      "source": [
        "---\n",
        "\n",
        "Simulated earnings of the salesman\n",
        "\n",
        "---"
      ],
      "metadata": {
        "id": "1vu0uinVwWuF"
      }
    },
    {
      "cell_type": "code",
      "source": [
        "## Simulated earnings of the salesman\n",
        "simulatedData"
      ],
      "metadata": {
        "id": "Ojw9UxNA5Hvs"
      },
      "execution_count": null,
      "outputs": []
    },
    {
      "cell_type": "markdown",
      "metadata": {
        "id": "D_cJMnipLUz8"
      },
      "source": [
        "---\n",
        "\n",
        "**Discrete random variable**: Let ${\\color{red}X}$  represent the total earnings from one day which is random; that is, ${\\color{red}X}$ is a discrete random variable which can take the values $0, 5000, 10000, 15000, 20000.$ The associated probabilities can be calculated as:\n",
        "\n",
        "$\\begin{align*}P({\\color{red}X} = 0)  &= 0.7\\times0.4 = 0.28,\\\\ P({\\color{red}X} = 5000) &= 0.3\\times0.3\\times0.4+0.7\\times0.6\\times0.5=0.246,\\\\ P({\\color{red}X} = 10000) &= 0.3\\times0.3\\times0.6\\times0.5+0.3\\times0.7\\times0.4+0.7\\times0.6\\times0.5=0.321,\\\\ P({\\color{red}X} = 15000) &= 0.3\\times0.3\\times0.6\\times0.5+0.3\\times0.7\\times0.6\\times0.5=0.09,\\\\ P({\\color{red}X} = 20000) &= 0.3\\times0.7\\times0.4+0.3\\times0.6\\times0.5 = 0.063.\\end{align*}$\n",
        "\n",
        "---\n",
        "\n",
        "**Probability Mass Function (PMF)** of the random variable ${\\color{red}X}$ is denoted as ${\\color{red}{P_X}}(x),$ where $x$ represents the possible values that the random variable ${\\color{red}X}$ can take:\n",
        "\n",
        "$\\begin{align*}{\\color{red}{P_X}}(0) &= P({\\color{red}X} = 0)  = 0.28,\\\\ {\\color{red}{P_X}}(5000) &=P({\\color{red}X} = 5000) = 0.246,\\\\ {\\color{red}{P_X}}(10000) &=P({\\color{red}X} = 10000) = 0.321,\\\\ {\\color{red}{P_X}}(15000) &=P({\\color{red}X} = 15000) = 0.09,\\\\ {\\color{red}{P_X}}(20000) &=P({\\color{red}X} = 20000) = 0.063.\\end{align*}$\n",
        "\n",
        "---"
      ]
    },
    {
      "cell_type": "markdown",
      "source": [
        "---\n",
        "\n",
        "Plot the frequency of occurences of all possible values of the random variable $\\color{red}X$\n",
        "\n",
        "---"
      ],
      "metadata": {
        "id": "d4hp390yioCG"
      }
    },
    {
      "cell_type": "code",
      "source": [
        "# Convert simulatedData into a dataframe\n",
        "dfSales = as.data.frame(simulatedData)\n",
        "\n",
        "# Add names to the columns\n",
        "colnames(dfSales) = c('Earning')\n",
        "\n",
        "p = ggplot(data = dfSales)+\n",
        "geom_bar(aes(x = factor(Earning)), width = 0.05, fill = 'steelblue') +\n",
        "  My_Theme +\n",
        "  labs(x = 'Revenue (Rs.)',\n",
        "       y = 'Frequency',\n",
        "       title = 'Frequency of Salesman Revenues')\n",
        "p"
      ],
      "metadata": {
        "id": "ttoW73bgYmFr"
      },
      "execution_count": null,
      "outputs": []
    },
    {
      "cell_type": "markdown",
      "source": [
        "---\n",
        "\n",
        "Plot the PMF of the random variable $\\color{red}X$\n",
        "\n",
        "---"
      ],
      "metadata": {
        "id": "sNKdDmAbjCh5"
      }
    },
    {
      "cell_type": "code",
      "source": [
        "# Convert table of simulatedData into a dataframe\n",
        "dfSales = as.data.frame(table(simulatedData))\n",
        "\n",
        "# Add names to the columns\n",
        "colnames(dfSales) = c('Earning', 'Frequency')\n",
        "\n",
        "# Add a new column with proportion (probability) values\n",
        "dfSales['Probability'] = dfSales['Frequency'] / nsimulations\n",
        "\n",
        "#head(dfSales, 5)\n",
        "\n",
        "p = ggplot(data = dfSales)+\n",
        "geom_col(aes(x = Earning, y = Probability), width = 0.05, fill = 'steelblue')+\n",
        "  My_Theme+\n",
        "  labs(x = 'Revenue',\n",
        "       y = 'Count',\n",
        "       title = 'PMF of Salesman Revenue')\n",
        "p"
      ],
      "metadata": {
        "id": "TgeYhmZrehkd"
      },
      "execution_count": null,
      "outputs": []
    },
    {
      "cell_type": "markdown",
      "source": [
        "What is the salesman's expected earnings? What does it even mean to say \"expected earning?\" It is a single number denoted as $E[X]$ and referred to as the *expected value of* $X$ which can be calculated as follows:\n",
        "\n",
        "\n",
        "---\n",
        "\n",
        "\n",
        "\n",
        "*   *From a simulation perspective*, it is simply an average of all the simulated earnings:\n",
        "$\\begin{align*}E[X] &\\approx \\frac{1}{\\text{nsimulations}}\\times\\begin{cases}\\text{No. of times 0 appeared}\\times0\\\\\\qquad\\qquad\\quad+\\\\\\text{No. of times 5000 appeared}\\times 5000\\\\\\qquad\\qquad\\quad+\\\\\\text{No. of times 10000 appeared}\\times10000\\\\\\qquad\\qquad\\quad+\\\\\\text{No. of times 15000 appeared}\\times15000\\\\\\qquad\\qquad\\quad+\\\\\\text{No. of times 20000 appeared}\\times20000\\end{cases}\\\\&=0\\times\\underbrace{\\frac{\\text{No. of times 0 appeared}}{\\text{nsimulations}}}_{\\color{green}{\\text{approximation to }P(X=0)=P_X(0)}}\\\\&+5000 \\times\\underbrace{\\frac{\\text{No. of times 5000 appeared}}{\\text{nsimulations}}}_{\\color{green}{\\text{approximation to }P(X=5000) = P_X(5000)}}\\\\&+10000 \\times\\underbrace{\\frac{\\text{No. of times 10000 appeared}}{\\text{nsimulations}}}_{\\color{green}{\\text{approximation to }P(X=10000) = P_X(10000)}}\\\\&+15000 \\times\\underbrace{\\frac{\\text{No. of times 15000 appeared}}{\\text{nsimulations}}}_{\\color{green}{\\text{approximation to }P(X=15000)=P_X(15000)}}\\\\&+20000 \\times\\underbrace{\\frac{\\text{No. of times 20000 appeared}}{\\text{nsimulations}}}_{\\color{green}{\\text{approximation to }P(X=20000)=P_X(20000)}}.\\end{align*}$\n",
        "\n",
        "\n",
        "---\n",
        "\n",
        "\n",
        "*   *From a theoretical perspective*, the expected value of $X$ is defined as the weighted sum of the possible values $X$ can take with the corresponding probabilities as the weights:\n",
        "\n",
        "$\\begin{align*} E[X] &= \\sum_xxP_X(x),\\ \\text{where }x = 0, 5000, 10000, 15000, 20000\\\\\\Rightarrow E[X] &= 0\\times P_X(0)+5000\\times P_X(5000)+10000\\times P_X(10000)+15000\\times P_X(15000)+20000\\times P_X(20000)\\\\&=0\\times0.28+5000\\times0.246+10000\\times0.321+15000\\times0.09+20000\\times0.063 = \\text{Rs. }7050.\\end{align*}$\n",
        "\n",
        "\n",
        "\n",
        "---\n",
        "\n",
        "So, we see that the expected value of $X$ is approximately the long-term average of the simulated (or realized) values of $X.$\n"
      ],
      "metadata": {
        "id": "ME_N99IUT3Nr"
      }
    },
    {
      "cell_type": "code",
      "metadata": {
        "id": "kGT80YihTcoP"
      },
      "source": [
        "# Expected earnings using simulated values\n",
        "mean(simulatedData) # long term average of the realizations of X\n",
        "\n",
        "# Expected earnings using the theoretical definition\n",
        "x = c(0, 5000, 10000, 15000, 20000)\n",
        "p = c(0.28, 0.246, 0.321, 0.09, 0.063)\n",
        "sum(x * p)"
      ],
      "execution_count": null,
      "outputs": []
    },
    {
      "cell_type": "markdown",
      "metadata": {
        "id": "EiGFb0IcYBaY"
      },
      "source": [
        "How much could the salesman's earnings vary from the expected value of the earning calculated in the previous cell?\n",
        "\n",
        "\n",
        "---\n",
        "\n",
        "\n",
        "To answer this question, let's first look at the quantity $X-E[X] = X-7050.$ Note that:\n",
        "\n",
        "\n",
        "*   this is also a random variable with the possible values $0-7050, 5000-7050, 10000-7050, 15000-7050, 20000-7050$;\n",
        "*   it can be thought of as the random variable that captures the deviation of $X$ from its expected value;\n",
        "*  the associated probabilities are still the same as:\n",
        "\\begin{array}{c|c|c}\n",
        "\\hline\n",
        "\\color{red}X&\\color{red}{X}-\\color{cyan}{E[X]} = \\color{red}{X}-\\color{cyan}{7050}&\\color{magenta}{\\text{Probability}}\\\\\n",
        "\\hline\n",
        "0 & -7050& 0.28\\\\\n",
        "5000 & -2050 & 0.246\\\\\n",
        "10000 & 2950 & 0.321\\\\\n",
        "15000 & 7950 & 0.09\\\\\n",
        "20000 0& 12950 & 0.063\n",
        "\\end{array}\n",
        "---\n",
        "Now, consider the quantity $(X-E[X])^2 = (X-7050)^2.$ Note that:\n",
        "\n",
        "\n",
        "*   this is also a random variable with the possible values $(0-7050)^2, (5000-7050)^2, (10000-7050)^2, (15000-7050)^2, (20000-7050)^2$;\n",
        "*   it can be thought of as the random variable that captures the squared deviation of $X$ from its expected value;\n",
        "*  the associated probabilities are still the same as:\n",
        "\\begin{array}{c|c|c}\n",
        "\\hline\n",
        "\\color{red}X&(\\color{red}{X}-\\color{cyan}{E[X]})^2 = (\\color{red}{X}-\\color{cyan}{7050})^2&\\color{magenta}{\\text{Probability}}\\\\\n",
        "\\hline\n",
        "0 & (-7050)^2 & 0.28\\\\\n",
        "5000 & (-2050)^2 & 0.246\\\\\n",
        "10000 & (2950)^2 & 0.321\\\\\n",
        "15000 & (7950)^2& 0.09\\\\\n",
        "20000 & (12950)^2 & 0.063\n",
        "\\end{array}\n",
        "\n",
        "---\n",
        "\n",
        "$\\color{green}{Variance}$ of the random variable $X,$ denoted as $\\text{var}[X],$ is the expected squared deviation of $X$ from its expected value. In simple terms, variance of $X$ is the expected value of the random variable $(X-E[X])^2.$\n",
        "\n",
        "$\\begin{align*}\\text{Var}[X] &= E\\left[\\underbrace{(X-E[X])^2}_{\\text{squared deviation random variable}}\\right]\\\\&=\n",
        "\\sum_x (x-E[X])^2\\times P_X(x)\\\\& = (0-7050)^2\\times P_X(0)+(5000-7050)^2\\times P_X(5000)+(10000-7050)^2\\times P_X(10000)+(15000-7050)^2\\times P_X(15000)+(20000-7050)^2\\times P_X(20000)\\\\&=(0-7050)^2\\times 0.28+(5000-7050)^2\\times 0.246+(10000-7050)^2\\times 0.321+(15000-7050)^2\\times 0.09+(20000-7050)^2\\times 0.063\\\\&=309375\\ \\text{Rupees squared}.\\end{align*}$\n",
        "\n",
        "---\n",
        "\n",
        "$\\color{green}{Standard\\ deviation}$ of the random variable $X,$ denoted as $\\text{SD}[X],$ is defined as the square root of its variance:\n",
        "\n",
        "$\\begin{align*}\\text{SD}[X] &= \\sqrt{\\text{Var}[X]} = \\sqrt{E\\left[(X-E[X])^2\\right]}\\\\&=\\sqrt{(0-7050)^2\\times 0.28+(5000-7050)^2\\times 0.246+(10000-7050)^2\\times 0.321+(15000-7050)^2\\times 0.09+(20000-7050)^2\\times 0.063}\\\\&\\approx \\text{Rs. 5830.7}.\\end{align*}$\n",
        "\n",
        "---"
      ]
    },
    {
      "cell_type": "code",
      "metadata": {
        "id": "RMD7O5VBZlqp"
      },
      "source": [
        "# Sample mean\n",
        "mean(simulatedData) # sample mean\n",
        "\n",
        "print('---------')\n",
        "\n",
        "# Sample variance of the earnings using simulated values\n",
        "#simulatedData - mean(simulatedData) # sample deviations vector\n",
        "#(simulatedData - mean(simulatedData))^2 # sample squared deviations vector\n",
        "mean((simulatedData - mean(simulatedData))^2) # sample variance calculated using simulation\n",
        "var(simulatedData) # in-built function for variance\n",
        "\n",
        "print('---------')\n",
        "\n",
        "# Standard deviation of the earnings using simulated values\n",
        "sqrt(mean((simulatedData - mean(simulatedData))^2))\n",
        "sd(simulatedData) # in-built function for standard deviation\n",
        "\n",
        "print('---------')\n",
        "\n",
        "# Variance of the earnings using the theoretical definition\n",
        "x = c(0, 5000, 10000, 15000, 20000)\n",
        "p = c(0.28, 0.246, 0.321, 0.09, 0.063)\n",
        "# sum(p*x) # mean or expected value of the random variable\n",
        "# x - sum(x*p) # deviations random variable\n",
        "# (x - sum(x*p))^2 # squared deviations randon variable\n",
        "sum((x - sum(x*p))^2 * p) # variance of the random variable\n",
        "\n",
        "print('---------')\n",
        "\n",
        "# Standard deviation of the earnings using the theoretical definition\n",
        "sqrt(sum((x - sum(x*p))^2 * p))"
      ],
      "execution_count": null,
      "outputs": []
    },
    {
      "cell_type": "markdown",
      "source": [
        "---\n",
        "\n",
        "A random variable and its realized values.\n",
        "\n",
        "$ X = \\text{heart rate of a random patient}$, which is a random variable. We will assume that the heart rates are symmetrically distributed around 74 BPM, and simulate the heart rates of 100 patients. Once we simulate (or realize or collect) the heart rates of a certain number of patients, then we have the heart rate vector $\\mathbf{x}$ which can be used as a proxy for understanding the heart rate of a random patient from the population.\n",
        "\n",
        "---"
      ],
      "metadata": {
        "id": "GFkm1qTyTA8y"
      }
    },
    {
      "cell_type": "code",
      "source": [
        "nsimulations = 100\n",
        "simulatedData = rnorm(nsimulations, mean = 74, sd = 6)\n",
        "print(simulatedData)\n",
        "\n",
        "# Expected value of heart rates (BPM)\n",
        "mean(simulatedData)\n",
        "\n",
        "# Variance of heart rates (BPM^2)\n",
        "mean((simulatedData - mean(simulatedData))^2)\n",
        "\n",
        "# Standard deviation of hear rates (BPM)\n",
        "sqrt(mean((simulatedData - mean(simulatedData))^2))"
      ],
      "metadata": {
        "id": "yvwt_jJFTBxA"
      },
      "execution_count": null,
      "outputs": []
    },
    {
      "cell_type": "markdown",
      "source": [
        "---\n",
        "\n",
        "Component plot of the simulated heart rates\n",
        "\n",
        "---"
      ],
      "metadata": {
        "id": "e4wmxHOuTcwH"
      }
    },
    {
      "cell_type": "code",
      "source": [
        "dfPatient = as.data.frame(simulatedData)\n",
        "colnames(dfPatient) = c('HR')\n",
        "#head(dfPatient)\n",
        "# Component plot of the simulated values (which can be seen as a vector)\n",
        "p = ggplot(data = dfPatient) +\n",
        "  geom_point(aes(x = 1:nrow(dfPatient), y = HR), color = 'blue') +\n",
        "  labs( x = 'Patient #', y = 'HR (BPM)') +\n",
        "  geom_hline(yintercept = mean(simulatedData), color = 'red') +\n",
        "  geom_hline(yintercept = mean(simulatedData) + sqrt(mean((simulatedData - mean(simulatedData))^2)), color = 'green') +\n",
        "  geom_hline(yintercept = mean(simulatedData) - sqrt(mean((simulatedData - mean(simulatedData))^2)), color = 'green') +\n",
        "  My_Theme+\n",
        "  labs(x = 'Patient #',\n",
        "       y = 'HR (BPM)',\n",
        "       title = 'Component Plot of Heart Rates (BPM)')\n",
        "p"
      ],
      "metadata": {
        "id": "6J3oyg--TkiE"
      },
      "execution_count": null,
      "outputs": []
    },
    {
      "cell_type": "markdown",
      "source": [
        "---\n",
        "\n",
        "\n",
        "$\\color{orange}{Binomial\\ Experiment}$\n",
        "\n",
        "**Scenario**: a box has 10 balls of which 4 are white and 6 are black balls. We randomly draw 5 balls $\\color{green}{with\\ replacement}.$ We are interested in the probability that 3 of the 5 drawn balls are white. This is the $\\color{green}{binomial\\ experiment}$.\n",
        "\n",
        "Let $X$ be the random variable that represents the number of white balls drawn. Note the two parameters of the experiment:\n",
        "\n",
        "1. the number of trials or the sample size $n=5$\n",
        "2. the success proportion in the sample $p=\\text{no. of white balls}/\\text{total no. of balls} = 4/10.$\n",
        "\n",
        "We denote the random variable as $$X\\sim\\text{Bin}(n=5, p = 4/10),$$\n",
        "\n",
        "and we are interested in $P(X = 3).$\n",
        "\n",
        "**Probability mass function (PMF)**: $$\\begin{align*}P_X(j)&= P(X = j) =nC_j\\times p^j\\times(1-p)^{n-j}\\\\\\Rightarrow P_X(3) =& P(X = 3) = 5C_3\\times (4/10)^3\\times(1-4/10)^{5-3}.\\end{align*}$$\n",
        "\n",
        "What is the probability that we will get at most 3 white balls?\n",
        "\n",
        "**Cumulative distribution function (CDF)**: $$\\begin{align*}F_X(j) &= P(X\\leq j)\\\\\\Rightarrow F_X(3) &= P(X\\leq 3) = P(X=0) + P(X=1)+ P(X=2) + P(X=3).\\end{align*}$$\n",
        "\n",
        "What is the probability that we will get at least 3 white balls?\n",
        "\n",
        "$$P(X >= 3) = 1 - P(X < 3) = 1 - P(X\\leq2).$$\n",
        "\n",
        "---"
      ],
      "metadata": {
        "id": "EUUTv0HrFNYI"
      }
    },
    {
      "cell_type": "code",
      "source": [
        "## Calculating the binomial probabilities directly using the functions\n",
        "## dbinom() and pbinom()\n",
        "n = 5\n",
        "p = 4/10\n",
        "j = 3\n",
        "dbinom(j, n, p) # P(X = j) where X~Bin(n, p)\n",
        "dbinom(0, n, p) + dbinom(1, n, p) + dbinom(2, n, p)  + + dbinom(2, n, p) # P(X <= 3)\n",
        "sum(dbinom(0:j, n, p)) # same as above P(X <= 3)\n",
        "pbinom(j, n, p) # P(X <= j)\n",
        "1 - pbinom(2, n, p)  # P(X >= 3) = 1 - P(X < 3) = 1 - P(X <= 2)"
      ],
      "metadata": {
        "id": "kmLx5y3WrQFU"
      },
      "execution_count": null,
      "outputs": []
    },
    {
      "cell_type": "markdown",
      "source": [
        "---\n",
        "\n",
        "Calculating the binomial probabilities using simulation with rbinom() function\n",
        "\n",
        "---"
      ],
      "metadata": {
        "id": "vG7oEcasxczC"
      }
    },
    {
      "cell_type": "code",
      "source": [
        "## Calculating the binomial probabilities using simulation with rbinom() function\n",
        "nsimulations = 1e5\n",
        "simulatedData = rbinom(nsimulations, n, p) # simulating a binomial random variable\n",
        "mean(simulatedData == 3) # simulated probability that X = 3\n",
        "dbinom(3, n, p) # theoretical probability that X = 3\n",
        "print('-----');\n",
        "mean(simulatedData <= 2) # simulated probability that X <= 2\n",
        "pbinom(2, n, p) # theoretical probability that X <= 2\n",
        "print('-----');\n",
        "mean(simulatedData > 2) # simulated probability that X > 2\n",
        "1 - pbinom(2, n, p) # theoretical probability that X > 2"
      ],
      "metadata": {
        "id": "-HjHV1Y5wUqM"
      },
      "execution_count": null,
      "outputs": []
    },
    {
      "cell_type": "markdown",
      "source": [
        "---\n",
        "\n",
        "Simulating a binomial random variable and plotting its PDF and CDF using the simulated values\n",
        "\n",
        "---"
      ],
      "metadata": {
        "id": "jqM61HOQMCbb"
      }
    },
    {
      "cell_type": "code",
      "source": [
        "# Simulating a binomial random variable\n",
        "n = 5\n",
        "p = 0.4\n",
        "nsimulations = 1e5\n",
        "simulatedData = rbinom(nsimulations, n, p)\n",
        "\n",
        "# Convert simulatedData into a dataframe\n",
        "dfBinom = as.data.frame(table(simulatedData))\n",
        "\n",
        "# Add names to the columns\n",
        "colnames(dfBinom) = c('Values', 'Frequency')\n",
        "\n",
        "# Add a new column with proportion (probability) values\n",
        "dfBinom['Probability'] = dfBinom['Frequency'] / nsimulations\n",
        "\n",
        "# Add a new column with the cumulative probabilities\n",
        "dfBinom['Cumprob'] = cumsum(dfBinom['Probability'])\n",
        "\n",
        "# Plot the PMF of the binomal random variable using the simulated values\n",
        "p = ggplot(data = dfBinom)+\n",
        "  geom_col(aes(x = Values, y = Probability), width = 0.05, fill = 'steelblue')+\n",
        "  My_Theme+\n",
        "  labs(x = 'j',\n",
        "       y = 'P(X = j)',\n",
        "       title = 'PMF of X~Bin(n = 5, p = 0.4) using simulated values')\n",
        "p\n",
        "\n",
        "# Plot the CDF of the binomal random variable using the simulated values\n",
        "p = ggplot(data = dfBinom)+\n",
        "  geom_col(aes(x = Values, y = Cumprob), width = 0.05, fill = 'steelblue')+\n",
        "  My_Theme+\n",
        "  labs(x = 'j',\n",
        "       y = 'P(X = j)',\n",
        "       title = 'CDF of X~Bin(n = 5, p = 0.4) using simulated values')\n",
        "p"
      ],
      "metadata": {
        "id": "qUQdAQLF64PW"
      },
      "execution_count": null,
      "outputs": []
    },
    {
      "cell_type": "markdown",
      "source": [
        "---\n",
        "\n",
        "\n",
        "**Scenario**: the $\\color{green}{binomial\\ experiment}$ explained above can be abstracted as a box containing 4 white balls and 6 black balls such that we sample $\\color{green}{with\\ replacement}$ one ball from the box and repeat it 5 times. Here we calculate the probability that we get 3 white balls by simulating this random experiment.\n",
        "\n",
        "---\n"
      ],
      "metadata": {
        "id": "hnNawHu98eQ7"
      }
    },
    {
      "cell_type": "code",
      "source": [
        "# A demo of the grepl() function\n",
        "data = c('w1', 'w2', 'b1', 'b2')\n",
        "sum(grepl('w.*', data))"
      ],
      "metadata": {
        "id": "rgSpJuAIEj2S"
      },
      "execution_count": null,
      "outputs": []
    },
    {
      "cell_type": "code",
      "source": [
        "## Sampling space\n",
        "s = c('w1', 'w2', 'w3', 'w4', 'b1', 'b2', 'b3', 'b4', 'b5', 'b6')\n",
        "\n",
        "## Probability for sampling an element from the sampling space\n",
        "p = (1/length(s))* replicate(length(s), 1)\n",
        "\n",
        "## Simulate the random experiment of drawing 5 balls from 10 balls with\n",
        "## replacement\n",
        "nsimulations = 1e1\n",
        "samplesize = 5\n",
        "simulatedData = replicate(nsimulations, sample(s, size = samplesize, replace = TRUE, prob = p))\n",
        "\n",
        "## Check event if 3 of the 5 drawn balls are white\n",
        "checkEvent = function(data){\n",
        "  if (sum(grepl('w.*',  data)) == 3){\n",
        "    return(1)\n",
        "  }\n",
        "  else{\n",
        "    return(0)\n",
        "  }\n",
        "}\n",
        "#simulatedData\n",
        "## Calculate the probability that 3 of the 5 drawn balls are white\n",
        "mean(apply(simulatedData, 2, checkEvent))\n",
        "\n",
        "## Calculate probability that 3 of the 5 drawn balls are white using dbinom()\n",
        "dbinom(3, 5, 0.4) # P(X = 3) when X~Bin(n = 5, p = 0.4)"
      ],
      "metadata": {
        "id": "FO-c7w82FLC1"
      },
      "execution_count": null,
      "outputs": []
    },
    {
      "cell_type": "markdown",
      "source": [
        "---\n",
        "\n",
        "The simulated data\n",
        "\n",
        "---"
      ],
      "metadata": {
        "id": "7_O4-WV_y8ao"
      }
    },
    {
      "cell_type": "code",
      "source": [
        "simulatedData"
      ],
      "metadata": {
        "id": "P1fuZHyTjppD"
      },
      "execution_count": null,
      "outputs": []
    },
    {
      "cell_type": "markdown",
      "source": [
        "---\n",
        "\n",
        "\n",
        "**Scenario**: the $\\color{green}{binomial\\ experiment}$ explained above can be abstracted as a box containing a white and black ball such that we sample $\\color{green}{with\\ replacement}$ one ball from the box and repeat it 5 times. Here, the probability of drawing a white ball is 4/10 and probability of drawing a black ball is 6/10.\n",
        "\n",
        "---\n"
      ],
      "metadata": {
        "id": "ExI8DzZrvnbB"
      }
    },
    {
      "cell_type": "code",
      "source": [
        "## Sampling space\n",
        "s = c('w', 'b')\n",
        "\n",
        "## Probability for sampling an element from the sampling space\n",
        "p = c(4/10, 6/10)\n",
        "\n",
        "## Simulate the random experiment of drawing 5 balls from 10 balls with\n",
        "## replacement\n",
        "nsimulations = 1e5\n",
        "simulatedData = replicate(nsimulations, sample(s, size = 5, replace = TRUE, prob = p))\n",
        "\n",
        "# Check event if 3 of the 5 drawn balls are white\n",
        "checkEvent = function(data){\n",
        "  if (sum(data == 'w') == 3){\n",
        "    return(1)\n",
        "  }\n",
        "  else{\n",
        "    return(0)\n",
        "  }\n",
        "}\n",
        "\n",
        "## Calculate the probability that 3 of the 5 drawn balls are white\n",
        "mean(apply(simulatedData, 2, checkEvent))"
      ],
      "metadata": {
        "id": "Iob3MR1OvwIh"
      },
      "execution_count": null,
      "outputs": []
    },
    {
      "cell_type": "markdown",
      "source": [
        "---\n",
        "\n",
        "**Example:** an oil company has a $20\\%$ chance of striking oil when drilling a well. What is the probability the company will strike oil 3 times in 7 drilling attempts?\n",
        "\n",
        "$$X\\sim\\text{Bin}(n = 7, p = 0.2)$$\n",
        "\n",
        "and we are interested in $P(X = 3).$\n",
        "\n",
        "---"
      ],
      "metadata": {
        "id": "2hufXo6FCW8H"
      }
    },
    {
      "cell_type": "code",
      "source": [
        "n = 7\n",
        "p = 0.2\n",
        "j = 3\n",
        "dbinom(j, n, p)"
      ],
      "metadata": {
        "id": "jvZXiYjGCX7A"
      },
      "execution_count": null,
      "outputs": []
    },
    {
      "cell_type": "markdown",
      "source": [
        "---\n",
        "\n",
        "**Example**: approximately 42% of people have type O blood. On a given day in a blood bank, 120 people arrive to donate blood. What is the probability that 30 of those 120 people have type O blood?\n",
        "\n",
        "$$X\\sim\\text{Bin}(n = 120, p = 0.42),$$\n",
        "\n",
        "We want $P(X=\\,30).$\n",
        "\n",
        "---"
      ],
      "metadata": {
        "id": "Pi_Zo0EsGk0z"
      }
    },
    {
      "cell_type": "code",
      "source": [
        "n = 120\n",
        "p = 0.42\n",
        "j = 30\n",
        "dbinom(j, n, p)"
      ],
      "metadata": {
        "id": "E7M9o4-vIvkF"
      },
      "execution_count": null,
      "outputs": []
    },
    {
      "cell_type": "markdown",
      "source": [
        "---\n",
        "\n",
        "**Example**: A certain stoplight, when coming from the North, is green approximately 31% of\n",
        "the time. Over the next few days, someone comes to this light 8 times from the\n",
        "North. We are interested in the probability that the person will come across green light 5 times.\n",
        "\n",
        "$$X\\sim\\text{Bin}(n = 8, p = 0.31).$$\n",
        "\n",
        "We want $P(X=5).$\n",
        "\n",
        "---"
      ],
      "metadata": {
        "id": "CX7ffpONOXMd"
      }
    },
    {
      "cell_type": "code",
      "source": [
        "n = 8\n",
        "p = 0.31\n",
        "j = 5\n",
        "dbinom(j, n, p)"
      ],
      "metadata": {
        "id": "HPuAu1EMPrOl"
      },
      "execution_count": null,
      "outputs": []
    },
    {
      "cell_type": "markdown",
      "source": [
        "---\n",
        "\n",
        "**Example**: A certain stoplight, when coming from the North, is green approximately 31% of\n",
        "the time. Over the next few days, someone comes to this light 8 times from the\n",
        "North. We are interested in the probability that the person will come across green light at least 5 times.\n",
        "\n",
        "$$X\\sim\\text{Bin}(n = 8, p = 0.31).$$\n",
        "\n",
        "We want $P(X\\geq\\,5).$\n",
        "\n",
        "---"
      ],
      "metadata": {
        "id": "jjIwLgvRkw5W"
      }
    },
    {
      "cell_type": "code",
      "source": [
        "n = 8\n",
        "p = 0.31\n",
        "j = 5:n\n",
        "sum(dbinom(j, n, p)) # P(X >= 5)\n",
        "\n",
        "j = 4\n",
        "#pbinom(j, n, p) # P(X <= 4) = P(X=0) + P(X=1) + ... + P(X=4)\n",
        "1-pbinom(j, n, p) # P(X >= 5)"
      ],
      "metadata": {
        "id": "uZDO-v06k2_c"
      },
      "execution_count": null,
      "outputs": []
    },
    {
      "cell_type": "markdown",
      "source": [
        "---\n",
        "\n",
        "**Example**: A certain stoplight, when coming from the North, is green approximately 31% of\n",
        "the time. Over the next few days, someone comes to this light 8 times from the\n",
        "North. We are interested in the probability that the person will come across green light at most 5 times.\n",
        "\n",
        "$$X\\sim\\text{Bin}(n = 8, p = 0.31).$$\n",
        "\n",
        "We want $P(X\\leq\\,5).$\n",
        "\n",
        "---"
      ],
      "metadata": {
        "id": "emluMQKYBMJp"
      }
    },
    {
      "cell_type": "code",
      "source": [
        "n = 8\n",
        "p = 0.31\n",
        "j = 5\n",
        "pbinom(j, n, p) # P(X <= 5)"
      ],
      "metadata": {
        "id": "V2uh-DjBBRto"
      },
      "execution_count": null,
      "outputs": []
    },
    {
      "cell_type": "markdown",
      "source": [
        "---\n",
        "\n",
        "**Example**: It is known that diskettes produced by a certain company will be defective with probability .01, independently of each other. The company sells the diskettes in packages of size 10 and offers a money-back guarantee that at most 1 of the 10 diskettes in the package will be defective. The guarantee is that the customer can return the entire package of diskettes if he or she finds more than one defective diskette in it. If someone buys 3 packages, what is the probability that he or she will return exactly 1 of them?\n",
        "\n",
        "$$X \\sim\\text{Bin}(n = 3, p_X =\\ ?),$$\n",
        "\n",
        "and we want $P(X = 1).$\n",
        "\n",
        "The number of defective items in a package:\n",
        "\n",
        "$$Z \\sim\\text{Bin}(n = 10, p_Z = 0.01).$$\n",
        "\n",
        "$$p_X = P(Z > 1) = 1-P(Z <= 1).$$\n",
        "\n",
        "---"
      ],
      "metadata": {
        "id": "XlAkcIXzBJOB"
      }
    },
    {
      "cell_type": "code",
      "source": [
        "n_z = 10\n",
        "p_z = 0.01\n",
        "# Probability that more than one defective item in the package\n",
        "p_x = 1-(dbinom(0, n_z, p_z) + dbinom(1, n_z, p_z))\n",
        "\n",
        "n = 3\n",
        "dbinom(1, n, p_x)"
      ],
      "metadata": {
        "id": "Eoc65qmTBJ4t",
        "colab": {
          "base_uri": "https://localhost:8080/",
          "height": 34
        },
        "outputId": "8172c200-b31c-4c8c-92c3-d0e47de6a0c5"
      },
      "execution_count": null,
      "outputs": [
        {
          "output_type": "display_data",
          "data": {
            "text/html": [
              "0.012689630881901"
            ],
            "text/markdown": "0.012689630881901",
            "text/latex": "0.012689630881901",
            "text/plain": [
              "[1] 0.01268963"
            ]
          },
          "metadata": {}
        }
      ]
    },
    {
      "cell_type": "markdown",
      "source": [
        "---\n",
        "\n",
        "**Example**: a machine produces items in batches. For each batch, the machine can be in control or out of control. Suppose the machine is in control for 99\\% of the production batches; The production defect rate is 0.01 when the machine is in control and 0.1 when the machine is out of control. Assume that the production size is 1000 items per batch.\n",
        "\n",
        "Suppose we want to update our *prior* knowledge of the probability that the machine is in/out-of control. To that end, we select a small random sample of 5 items from a production batch and inspect how many among them are defective, which is represented by $X$. Compute the missing entries in the following table using the hint given below:\n",
        "\n",
        "---\n",
        "\n",
        "![table](https://dsm04pap002files.storage.live.com/y4mXfEFb-HaPGZNdqxBRlJdFnJejZZ28kRYoGI5acBdY0WuKLxVS6y_whP6zmLpGxMG7_mQYC2OIPa2wkouJ0ofqAiw_6Nh-6wT45EJpEPeEsmzJ2wCj310cGg-zvZS4NEAY6OaeQrEKXTNThqxHIZVfx8m5E5nNY-NxfX1KBqOkbkNrNGMIZQENpUieuQRTwq1?width=660&height=178&cropmode=none)\n",
        "\n",
        "---\n",
        "\n",
        "*Hint*:\n",
        "\n",
        "![hint](https://dsm04pap002files.storage.live.com/y4mYL8V8jmlmzvzkuSs6KxX06nfgHDMNCkbgSMsV2E2edsy31NRHdfdsvm8bG7Y7EMh7PuKO-zxHYUMpYT2veBXxAytwCKgOZeJG413vD8p7LXnVIzdOsForszztScSBh8LCLhxYrrf-w-g6BmDi8EqXz18T-PuNMCuK9qzVhJO2L77oBH5hEXkHC2hNaLBkozG?width=660&height=167&cropmode=none)\n",
        "\n",
        "---"
      ],
      "metadata": {
        "id": "qd-nF7e-8AD2"
      }
    },
    {
      "cell_type": "code",
      "source": [
        "n = 5\n",
        "defectRate_IC = 0.01 # defect rate when machine is in control\n",
        "defectRate_OC = 0.1 # defect rate when machine is out of control\n",
        "p_IC = 0.99 # prior probability that the machine is in control\n",
        "p_OC = 1-p_IC # prior probability that the machine is out of control\n",
        "j = 0:5\n",
        "\n",
        "# Posterior probability that the machine is in control after\n",
        "# observing j defective items in a sample of 5 items chosen\n",
        "# from a batch\n",
        "(dbinom(j, n, defectRate_IC) * p_IC) / (dbinom(j, n, defectRate_IC) * p_IC + dbinom(j, n, defectRate_OC) * p_OC)"
      ],
      "metadata": {
        "id": "rzewpXecDbkW"
      },
      "execution_count": null,
      "outputs": []
    },
    {
      "cell_type": "markdown",
      "source": [
        "---\n",
        "\n",
        "$\\color{orange}{Hypergeometric\\ Experiment}$\n",
        "\n",
        "\n",
        "**Scenario**: a box has 4 white and 6 black balls. We randomly draw 5 balls $\\color{green}{without\\ replacement}.$ We are interested in the probability that 3 of the 5 drawn balls are white. This is the $\\color{green}{hypergeometric\\ experiment}$.\n",
        "\n",
        "Let $X$ be the random variable that represents the number of white balls drawn. Note the two parameters of the experiment:\n",
        "\n",
        "1. the number of successes $n_s=\\text{no. of white balls}=4.$\n",
        "2. the number of failures $n_f = \\text{no. of black balls}=6.$\n",
        "3. the sample size $n=5$\n",
        "\n",
        "We denote the random variable as $$X\\sim\\text{HypGeom}(n_s = 4, n_f = 6, n = 5),$$\n",
        "\n",
        "and we are interested in $P(X = 3).$\n",
        "\n",
        "**Probability mass function (PMF)**: $$\\begin{align*}P_X(j)&= P(X = j) =\\dfrac{\\binom{n_s}{j}\\binom{n_f}{n-j}}{\\binom{n_s+n_f}{n}}\\\\\\Rightarrow P_X(3) =& P(X = 3) = \\dfrac{\\binom{4}{3}\\binom{6}{5-3}}{\\binom{4+6}{5}}.\\end{align*}$$\n",
        "\n",
        "What is the probability that we will get at most 3 white balls?\n",
        "\n",
        "**Cumulative distribution function (CDF)**: $$\\begin{align*}F_X(j) &= P(X\\leq j)\\\\\\Rightarrow F_X(3) &= P(X\\leq 3) = P(X=0) + P(X=1)+ P(X=2) + P(X=3).\\end{align*}$$\n",
        "\n",
        "What is the probability that we will get at least 3 white balls?\n",
        "\n",
        "$$P(X >= 3) = 1 - P(X < 3) = 1 - P(X\\leq2).$$\n",
        "\n",
        "---"
      ],
      "metadata": {
        "id": "eeRbfnuCXOLd"
      }
    },
    {
      "cell_type": "code",
      "source": [
        "n_s = 4\n",
        "n_f = 6\n",
        "n = 5\n",
        "j = 3\n",
        "dhyper(j, n_s, n_f, n) # P(X = j)\n",
        "phyper(j, n_s, n_f, n) # P(X <= j)\n",
        "1-phyper(j-1, n_s, n_f, n) # P(X >= j)"
      ],
      "metadata": {
        "id": "jjPMM94tWCvs"
      },
      "execution_count": null,
      "outputs": []
    },
    {
      "cell_type": "markdown",
      "source": [
        "---\n",
        "\n",
        "Simulating a hypergeometric random variable and plotting its PMF and CDf using simulated values.\n",
        "\n",
        "---"
      ],
      "metadata": {
        "id": "Szwhf7igWTnk"
      }
    },
    {
      "cell_type": "code",
      "source": [
        "## Sampling space\n",
        "s = c('w1', 'w2', 'w3', 'w4', 'b1', 'b2', 'b3', 'b4', 'b5', 'b6')\n",
        "\n",
        "## Probability for sampling an element from the sampling space\n",
        "p = (1/length(s))* replicate(length(s), 1)\n",
        "\n",
        "## Simulate the random experiment of drawing 4 balls from 10 balls with\n",
        "## replacement\n",
        "nsimulations = 1e5\n",
        "samplesize = 5\n",
        "simulatedData = replicate(nsimulations, sample(s, size = samplesize, replace = FALSE, prob = p))\n",
        "\n",
        "## Check event if 2 of the 4 drawn balls are white\n",
        "checkEvent = function(data){\n",
        "  if (sum(grepl('w.*',  data)) == 3){\n",
        "    return(1)\n",
        "  }\n",
        "  else{\n",
        "    return(0)\n",
        "  }\n",
        "}\n",
        "#simulatedData\n",
        "## Calculate probability that 2 of the 4 drawn balls are white\n",
        "mean(apply(simulatedData, 2, checkEvent))"
      ],
      "metadata": {
        "id": "vUNGyIw1XhKX"
      },
      "execution_count": null,
      "outputs": []
    },
    {
      "cell_type": "markdown",
      "source": [
        "---\n",
        "\n",
        "How are the binomial and hypergeometric experiments related?\n",
        "\n",
        "If $X\\sim\\text{HypGeom}(n_s, n_f, n)$ such that *both* the the following conditions hold:\n",
        "1. sample size is much smaller than population size, $n << (n_s+n_f)$, and\n",
        "2. number of successes $n_s$ is not close to  $0$ and population size $n_s+n_f.$\n",
        "\n",
        "Then, $P(X = j)$ calculated using the hypergeometric PMF (or $\\texttt{dhyper()}$) will result in approximately the same answer as calculating $P(X=j)$ using the binomial PMF (or $\\texttt{dbinom()}$) where\n",
        "\n",
        "$$X\\sim\\text{Bin}(n, p)\\ \\text{approximately where }p=n_s/(n_s+n_f).$$\n",
        "\n",
        "---"
      ],
      "metadata": {
        "id": "D9Rgt-6jGVky"
      }
    },
    {
      "cell_type": "code",
      "source": [
        "# (1) Condition 1 \"sample size is small compared to population size\" satisfied\n",
        "# (2) Condition 2 \"success proportion is not too close to 0 or 1\" not satisfied\n",
        "dhyper(38, 9900, 100, 40) # X~HypGeom(ns = 9900, nf = 100, n= 40), P(X = 38)\n",
        "dbinom(38, 40, 0.99) # X~Bin(n = 40, p = 0.99), P(X = 38)\n",
        "\n",
        "# (1) Condition 1 \"sample size is small compared to population size\" not satisfied\n",
        "# (2) Condition 2 \"success proportion is not too close to 0 or 1\" satisfied\n",
        "dhyper(3600, 4000, 6000, 9000) # X~HypGeom(ns = 4000, nf = 6000, n = 9000), P(X = 3600)\n",
        "dbinom(3600, 9000, 0.4) # X~Bin(n = 9000, p = 0.4), P(X = 3600)\n",
        "\n",
        "# (1) Condition 1 \"sample size is small compared to population size\"  satisfied\n",
        "# (2) Condition 2 \"success proportion is not too close to 0 or 1\" satisfied\n",
        "dhyper(40, 4000, 6000, 100)\n",
        "dbinom(40, 100, 0.4)"
      ],
      "metadata": {
        "id": "8lU_n-n1Hbc8"
      },
      "execution_count": null,
      "outputs": []
    },
    {
      "cell_type": "markdown",
      "source": [
        "---\n",
        "\n",
        "In a forest that has 1000 tigers, 250 are captured, tagged, and released. A few weeks later, a sample of 10 tigers from the forest is captured. Calculate the\n",
        "probability that\n",
        "\n",
        "- exactly half of those captured tigers are tagged: $$X\\sim\\text{HypGeom}(n_s = 250, n_f = 750, n = 10)\\ \\text{and we want }P(X = 5).$$\n",
        "- at most half of those captured tigers are tagged\n",
        "- at least half of those captured tigers are tagged\n",
        "\n",
        "---"
      ],
      "metadata": {
        "id": "ZrVl-RuXDyEd"
      }
    },
    {
      "cell_type": "code",
      "source": [
        "j = 5\n",
        "n_s = 250\n",
        "n_f = 750\n",
        "n = 10\n",
        "dhyper(j, n_s, n_f, n) # P(X = j) using X~HypGeom(n_s = 250, n_f = 750, n = 10)\n",
        "dbinom(j, n, n_s/(n_s+n_f)) # P(X = j) using X~Bin(n = 10, p = n_s/(n_s+n_f))\n",
        "# P(X <= 5)\n",
        "phyper(j, n_s, n_f, n)\n",
        "# P(X >= 5) = 1 - P(X < 5) = 1 - P(X <= 4)\n",
        "1-phyper(j, n_s, n_f, n)"
      ],
      "metadata": {
        "id": "fW1U5bLtE7Ea"
      },
      "execution_count": null,
      "outputs": []
    },
    {
      "cell_type": "markdown",
      "source": [
        "---\n",
        "\n",
        "\n",
        "$\\color{orange}{\\textbf{How to estimate the population count of tigers in a population?}}$\n",
        "\n",
        "Capture a few tigers, say 20, of them, and tag them. Release the tigers back into the forest and let the tigers in the forest to move around and to distribute themselves naturally. Come back after a few weeks and recapture a few tigers; say 10 of them. Suppose of those 10 that were recaptured, you found 4 of them to be tagged.\n",
        "\n",
        "In this context, let the population count of tigers in the forest be $N,$ which is the quantity we are tying to estimate. The number of tigers that were tagged by us originally is the number of successes $n_s=20.$ The number of untagged tigers in the forest, which is also the number of failures, is $n_f = N-20.$ The sample size of tigers that were recaptured is $n=10.$ The number of successes which is the number of tagged tiger among the ones we recaptured is a random value which we observed to take the value 4. That is $$\\begin{align*}X&=\\text{number of tagged tigers among the recaptured ones}\\\\\\Rightarrow X&\\sim\\text{HypGeom}(n_s=20, n_f = N-20, n =10)\\\\\\Rightarrow P(X=j)&=\\dfrac{{n_s\\choose j}{{N-n_s}\\choose{n-j}}}{N\\choose n}\\\\\\Rightarrow P(X=4)&=\\dfrac{{20\\choose 4}{{N-20}\\choose{10-4}}}{N\\choose 10} = \\frac{{20\\choose 4}{{N-20}\\choose{6}}}{N\\choose 10} \\end{align*}.$$\n",
        "We can now estimate $N$ by choosing a value that maximizes the likelihood of what we observed: that is, maximize the probability of observing $4$ tagged tigers. This can be shown to happen for the value $$\\begin{align*}N &= \\frac{n_s\\times n}{j} = \\frac{20\\times10}{4}=50.\\end{align*}$$\n",
        "The following code plots the likelihood value for different values of $N$ which can be observed to reach a maximum value for $N=50.$\n",
        "\n",
        "---"
      ],
      "metadata": {
        "id": "b8LWzTJgeyi4"
      }
    },
    {
      "cell_type": "code",
      "source": [
        "# No. of successes\n",
        "n_s = 20\n",
        "\n",
        "# Function to return number of failures for population size N\n",
        "n_f = function(N){\n",
        "  return(N-n_s)\n",
        "  }\n",
        "\n",
        "# Sample size\n",
        "n = 10\n",
        "\n",
        "# No. of observed successes in the sample\n",
        "j = 4\n",
        "\n",
        "# Likelihood function\n",
        "L = function(N){\n",
        "  return(choose(n_s, j)*choose(N-20, n-j)/choose(N, n)) # return(dhyper(j, n_s, n_f, n)) also works\n",
        "}\n",
        "\n",
        "# Plot likelihood function\n",
        "N_values = 20:200\n",
        "df = as.data.frame(cbind(N_values, L(N_values)))\n",
        "colnames(df) = c('N_values', 'L')\n",
        "p = ggplot(data = df) +\n",
        "  geom_point(aes(x = N_values, y = L), color = 'blue') +\n",
        "  My_Theme+\n",
        "  labs(x = 'N',\n",
        "       y = 'Likelihood',\n",
        "       title = 'Likelihood of Hypergeometric Random Variable')\n",
        "p"
      ],
      "metadata": {
        "id": "d7rBdW9Iown6"
      },
      "execution_count": null,
      "outputs": []
    },
    {
      "cell_type": "markdown",
      "source": [
        "\n",
        "\n",
        "\n",
        "---\n",
        "\n",
        "**Example:** an oil company has the following record in the past: out of 10000 drilling attempts, it has struck oil 2000 times. What is the probability the company will strike oil 3 times in 7 drilling attempts?\n",
        "\n",
        "$$X\\sim\\text{HypGeom}(n_s = 2000, n_f = 8000, n = 7)$$\n",
        "\n",
        "and the probability we are interested in is $P(X=\\,3).$\n",
        "\n",
        "---"
      ],
      "metadata": {
        "id": "uR3-ee32V4pf"
      }
    },
    {
      "cell_type": "code",
      "source": [
        "n_s = 2000\n",
        "n_f = 8000\n",
        "n = 7\n",
        "j = 3\n",
        "dhyper(j, n_s, n_f, n)"
      ],
      "metadata": {
        "id": "tPYEwcfOGNBQ"
      },
      "execution_count": null,
      "outputs": []
    },
    {
      "cell_type": "markdown",
      "source": [
        "---\n",
        "\n",
        "A company has a pool of 15 applicants (10 male, 5 female) for a particular position that has 3 current openings. Calculate the probability that none of the\n",
        "positions are filled by males.\n",
        "\n",
        "$$X\\sim\\text{HypGeom}(n_s = 10, n_f = 5, n = 3)$$\n",
        "\n",
        "and the probability we are interested in is $P(X=\\,0).$\n",
        "\n",
        "---"
      ],
      "metadata": {
        "id": "nbAymoP-FC6J"
      }
    },
    {
      "cell_type": "code",
      "source": [
        "n_s = 10\n",
        "n_f = 5\n",
        "n = 3\n",
        "j = 0\n",
        "dhyper(j, n_s, n_f, n)"
      ],
      "metadata": {
        "id": "zkOUHrOGFLW0"
      },
      "execution_count": null,
      "outputs": []
    },
    {
      "cell_type": "markdown",
      "source": [
        "---\n",
        "\n",
        "**Example:** assembly line produces products that they put into boxes of 50. The inspector then randomly picks 3 items inside a box to test to see if they are defective. In a box containing 4 defectives, they are interested in the probability that at least one of the three items sampled is defective.\n",
        "\n",
        "We need $$ P(X \\geq 1),$$ where $$X\\sim\\text{Hyper}(n_s = 4, n_f = 46, n = 3).$$\n",
        "\n",
        "$$P(X >= 1) = 1 - \\underbrace{P(X <=0)}_{={\\color{yellow}{F_X}}(0)}$$\n",
        "\n",
        "---"
      ],
      "metadata": {
        "id": "iUTDO1HSFtXZ"
      }
    },
    {
      "cell_type": "code",
      "source": [
        "n_s = 4\n",
        "n_f = 46\n",
        "n = 3\n",
        "# P(X >= 1) = 1 - P(X < 1) = 1-P(X = 0)\n",
        "j = 0\n",
        "1-dhyper(j, n_s, n_f, n)\n",
        "\n",
        "# Compare with binomial\n",
        "n = 3\n",
        "p = n_s/(n_s+n_f)\n",
        "j = 0\n",
        "1-dbinom(j, n, p)"
      ],
      "metadata": {
        "id": "U8-X2W3CF8Rn"
      },
      "execution_count": null,
      "outputs": []
    },
    {
      "cell_type": "markdown",
      "source": [
        "---\n",
        "\n",
        "**Example:** an assembly line produces products that they put into boxes of 50. The inspector then randomly picks 3 items inside a box to test to see if they are defective. In a box containing 4 defectives, they are interested in the probability that at most one of the three items sampled is defective.\n",
        "\n",
        "We need $$ P(X \\leq 1),$$ where $$X\\sim\\text{Hyper}(n_s = 4, n_f = 46, n = 3).$$\n",
        "\n",
        "\n",
        "---"
      ],
      "metadata": {
        "id": "zvxkx2yYGD5U"
      }
    },
    {
      "cell_type": "code",
      "source": [
        "n_s = 4\n",
        "n_f = 46\n",
        "n = 3\n",
        "j = 1\n",
        "phyper(j, n_s, n_f, n)"
      ],
      "metadata": {
        "id": "iio2IkLNGdVK"
      },
      "execution_count": null,
      "outputs": []
    },
    {
      "cell_type": "markdown",
      "source": [
        "---\n",
        "\n",
        "\n",
        "$\\color{orange}{Negative\\ Binomial\\ Experiment}$\n",
        "\n",
        "\n",
        "**Scenario**: a box has 4 white and 6 black balls. We randomly draw balls $\\color{green}{with\\ replacement}.$ We are interested in the probability that 4th white ball will be drawn in the 10th attempt. This is the $\\color{green}{negative\\ binomial\\ experiment}.$\n",
        "\n",
        "---"
      ],
      "metadata": {
        "id": "OeAZRZ9YmLS8"
      }
    },
    {
      "cell_type": "code",
      "source": [
        "## Sampling space\n",
        "s = c('w', 'b')\n",
        "\n",
        "## Probability for sampling an element from the sampling space\n",
        "p = c(4/10, 6/10)\n",
        "\n",
        "## Simulate the random experiment of drawing 10 balls with replacement\n",
        "nsimulations = 1e5\n",
        "simulatedData = replicate(nsimulations, sample(s, size = 10, replace = TRUE, prob = p))\n",
        "\n",
        "## Check event if 4th white ball is drawn in the 10th attempt\n",
        "checkEvent = function(data){\n",
        "  if ((sum(data == 'w') == 4) & (data[10] == 'w')){\n",
        "    return(1)\n",
        "  }\n",
        "  else{\n",
        "    return(0)\n",
        "  }\n",
        "}\n",
        "\n",
        "## Calculate probability that the 4th white ball is drawn in the 10th attempt\n",
        "#simulatedData\n",
        "mean(apply(simulatedData, 2, checkEvent))\n",
        "r = 4\n",
        "p = 0.4\n",
        "j = 10\n",
        "dnbinom(j-r, r, p) # p = 0.4, r = 4\n",
        "# The probability that \"we get the 4th success in the 10th attempt with a\n",
        "# success probability per trail of 0.4\" is equivalent to the probability that\n",
        "# \"we have 10-4 failures before the 4th sucess with a sucess probability\n",
        "# of 0.4 per trial.\"\n"
      ],
      "metadata": {
        "id": "k6hwVnQzmfzE"
      },
      "execution_count": null,
      "outputs": []
    },
    {
      "cell_type": "markdown",
      "source": [
        "---\n",
        "\n",
        "Simulating a negative binomial random variable and plotting its PDF and CDF using the simulated values\n",
        "\n",
        "---"
      ],
      "metadata": {
        "id": "3yMuVq2pLCrC"
      }
    },
    {
      "cell_type": "code",
      "source": [
        "# Simulating a binomial random variable\n",
        "r = 10\n",
        "p = 0.4\n",
        "nsimulations = 1e4\n",
        "simulatedData = rnbinom(nsimulations, r, p)\n",
        "\n",
        "# Convert simulatedData into a dataframe\n",
        "dfNBinom = as.data.frame(table(simulatedData))\n",
        "\n",
        "# Add names to the columns\n",
        "colnames(dfNBinom) = c('Values', 'Frequency')\n",
        "\n",
        "# Add a new column with proportion (probability) values\n",
        "dfNBinom['Probability'] = dfNBinom['Frequency'] / nsimulations\n",
        "\n",
        "# Add a new column with the cumulative probabilities\n",
        "dfNBinom['Cumprob'] = cumsum(dfNBinom['Probability'])\n",
        "\n",
        "# Plot the PMF of the negative binomal random variable using the simulated values\n",
        "p = ggplot(data = dfNBinom)+\n",
        "  geom_col(aes(x = Values, y = Probability), width = 0.05, fill = 'steelblue')+\n",
        "  My_Theme+\n",
        "  labs(x = 'j',\n",
        "       y = 'P(X = j)',\n",
        "       title = 'PMF of X~NegBin(r = 10, p = 0.4) using simulated values')\n",
        "p\n",
        "\n",
        "# Plot the CDF of the negative binomal random variable using the simulated values\n",
        "p = ggplot(data = dfNBinom)+\n",
        "  geom_col(aes(x = Values, y = Cumprob), width = 0.05, fill = 'steelblue')+\n",
        "  My_Theme+\n",
        "  labs(x = 'j',\n",
        "       y = 'P(X = j)',\n",
        "       title = 'CDF of X~NegBin(r = 10, p = 0.4) using simulated values')\n",
        "p"
      ],
      "metadata": {
        "id": "w0lfZHUSLF1r"
      },
      "execution_count": null,
      "outputs": []
    },
    {
      "cell_type": "markdown",
      "source": [
        "---\n",
        "\n",
        "**Example:** an oil company has a $20\\%$ chance of striking oil when drilling a well. What is the probability the company drills $7$ times to strike oil the 3rd time?\n",
        "\n",
        "$$X\\sim\\text{NegBin}(r = 3, p = 0.2)$$ and we are interested in $P(X=7).$\n",
        "\n",
        "---"
      ],
      "metadata": {
        "id": "xmDmj6nzEoU-"
      }
    },
    {
      "cell_type": "code",
      "source": [
        "r = 3\n",
        "p = 0.2\n",
        "j = 7\n",
        "dnbinom(j-r, r, p) # dbinom(j, n, p)\n",
        "choose(j-1, r-1)*(p^r)*(1-p)^(j-r)"
      ],
      "metadata": {
        "id": "ODXqvwVwLQlm"
      },
      "execution_count": null,
      "outputs": []
    },
    {
      "cell_type": "markdown",
      "source": [
        "---\n",
        "  \n",
        "**Example:** a person conducting telephone surveys must get 4 more completed surveys before their job is finished. On each randomly dialed number, there is a 90% chance of the participant rejecting the call. What is the probability that the person will finish their job at the 10th call?\n",
        "\n",
        "$$X\\sim\\text{NegBin}(r = 4, p = 0.1)$$\n",
        "\n",
        "and we are interested in $P(X = \\,10).$\n",
        "  \n",
        "---"
      ],
      "metadata": {
        "id": "oo8N0xl1LRTG"
      }
    },
    {
      "cell_type": "code",
      "source": [
        "r = 4\n",
        "p = 0.1\n",
        "j = 10\n",
        "dnbinom(j-r, r, p)"
      ],
      "metadata": {
        "id": "2rc7mr0TSwfE"
      },
      "execution_count": null,
      "outputs": []
    },
    {
      "cell_type": "markdown",
      "source": [
        "---\n",
        "\n",
        "**Example**: at an airport, it is know that approximately 2 out of 10 passengers have a metallic object. If left undetected at the manual security check at the airport entrance,  such a metallic object will raise an alarm when the passenger walks through an automated screening machine. It is considered a security breach when the alarm gets raised 20 times a day. What is the probability of a security breach on a particular day when the 100th passenger walks through the automated screening machine?\n",
        "\n",
        "$$X\\sim\\text{NegBin}(r = 20, p = 2/10)$$\n",
        "\n",
        "and we are interested in $P(X=100).$\n",
        "\n",
        "---"
      ],
      "metadata": {
        "id": "rQhWpdvQL51m"
      }
    },
    {
      "cell_type": "code",
      "source": [
        "r = 20\n",
        "p = 2/10\n",
        "j = 100\n",
        "dnbinom(j-r, r, p)"
      ],
      "metadata": {
        "id": "yuUmI4JfGmXp"
      },
      "execution_count": null,
      "outputs": []
    },
    {
      "cell_type": "markdown",
      "source": [
        "---\n",
        "\n",
        "\n",
        "During assembly, a product is equipped with 5 control switches, each of which has probability .04 of being defective. What is the probability that 2 defective switches are encountered before 5 nondefective ones?\n",
        "\n",
        "$$X\\sim\\text{NegBin}(r = 5, p = 0.96)$$\n",
        "\n",
        "and we are interested in $P(X=\\,7).$\n",
        "\n",
        "---"
      ],
      "metadata": {
        "id": "XF37UBicilJ0"
      }
    },
    {
      "cell_type": "code",
      "source": [
        "r = 5\n",
        "p = 0.96\n",
        "j = 7\n",
        "# Probability that the 5th nondefective occurs in the 7th trial\n",
        "dnbinom(j-r, r, p)"
      ],
      "metadata": {
        "id": "8u_Fn9AQiwRr"
      },
      "execution_count": null,
      "outputs": []
    },
    {
      "cell_type": "markdown",
      "source": [
        "---\n",
        "\n",
        "$\\color{orange}{Poisson\\ Random\\ Variable}$\n",
        "\n",
        "The Poisson random variable is an extreme case of the binomial random variable when the number of trials $n$ far exceeds the success probability per trail:\n",
        "\n",
        "$$X\\sim\\text{Bin}(n,p)\\ \\text{with } n>>p\\Rightarrow X\\sim\\text{Poi}\\left(\\underbrace{\\lambda}_{n\\times p}\\right),$$ where $\\lambda = n\\times p$ can be considered as the average rate of occurence of the event. The probability mass function (PMF) of the Poisson random variable is $$P(X = j) = \\dfrac{e^{-\\lambda}\\lambda^j}{j!},\\ \\text{where }j=0,1,2,\\ldots.$$\n",
        "\n",
        "**Example**: On an average, 3.5 accidents occur on a road every month. What is the probability that (a) in the next month, there are 4 accidents (2) in the next two months, there are 8 accidents.\n",
        "\n",
        "$$\\lambda = 3.5\\frac{\\text{accidents}}{{\\text{month}}} = \\frac{2\\times3.5}{2}\\frac{\\text{accident}}{{\\text{month}}} = 7\\frac{\\text{accidents}}{{\\text{2 months}}}$$\n",
        "\n",
        "---"
      ],
      "metadata": {
        "id": "SQNEG51vJhlr"
      }
    },
    {
      "cell_type": "code",
      "source": [
        "j = 4\n",
        "lambda = 3.5\n",
        "dpois(j, lambda)\n",
        "\n",
        "n = 3500\n",
        "p = 1e-3\n",
        "dbinom(4, n, p)\n",
        "\n",
        "j = 8\n",
        "lambda_new = 7\n",
        "dpois(j, lambda_new)"
      ],
      "metadata": {
        "id": "ejTf4UURLetk"
      },
      "execution_count": null,
      "outputs": []
    },
    {
      "cell_type": "markdown",
      "source": [
        "---\n",
        "\n",
        "\n",
        "On an average, a laptop crashes once every 5000 hours. What is the probability that 10 laptops will crash the next calendar year?\n",
        "\n",
        "$$X\\sim\\text{Poi}\\left(\\lambda = 1\\frac{\\text{crash}}{\\text{5000 hours}}\\right).$$\n",
        "\n",
        "$$\\lambda = 1\\frac{\\text{crash}}{\\text{5000 hours}} = \\frac{1}{5000}\\frac{\\text{crash}}{\\text{hour}} = \\frac{1}{5000}\\frac{\\text{crash}}{\\text{hour}} = \\frac{1}{5000}\\frac{\\text{crash}}{\\text{hour}} = \\frac{365\\times24}{5000}\\frac{\\text{crashes}}{\\text{year}}.$$\n",
        "\n",
        "\n",
        "---"
      ],
      "metadata": {
        "id": "Mqv5jWjQLfFj"
      }
    },
    {
      "cell_type": "code",
      "source": [
        "lambda = 365*24/5000\n",
        "j = 10\n",
        "dpois(j, lambda)"
      ],
      "metadata": {
        "id": "FGGRA_q8L-6s"
      },
      "execution_count": null,
      "outputs": []
    },
    {
      "cell_type": "markdown",
      "source": [
        "---\n",
        "\n",
        "Consider a computer cluster (data center) of 100 web servers, where incoming requests are\n",
        "randomly assigned to servers with equal probability. Based on historical averages, each\n",
        "server in the data center receives requests at a rate of 3 per second. Some buggy server code\n",
        "was just deployed to all the servers in the cluster and as a result any server will crash if it\n",
        "receives more than 8 requests in a second. What is the approximate probability that no\n",
        "servers have crashed 1 second after the buggy code is deployed?\n",
        "\n",
        "Let $X_i$ be the random number of requests that the $i$th server gets. We have $X_i\\sim\\text{Poi}\\left(\\lambda = 3\\,\\frac{\\text{requests}}{\\text{second}}\\right).$\n",
        "\n",
        "Probability of interest $$\\small=P(X_1 \\leq 8\\,\\text{AND}\\,X_2\\leq 8\\,\\text{AND}\\,\\ldots\\,\\text{AND}\\, X_{100}\\leq 8)= P(X_1\\leq 8)\\times P(X_2\\leq8)\\times\\cdots\\times P(X_{100}\\leq8).$$\n",
        "\n",
        "---"
      ],
      "metadata": {
        "id": "Pt4AH7zLMDjy"
      }
    },
    {
      "cell_type": "code",
      "source": [
        "j = 8\n",
        "lambda = 3\n",
        "ppois(j, lambda)^100"
      ],
      "metadata": {
        "id": "aCq3wKjxMLhp"
      },
      "execution_count": null,
      "outputs": []
    },
    {
      "cell_type": "markdown",
      "source": [
        "---\n",
        "\n",
        "\n",
        "The number of times that a person contracts a cold in a given year is a Poisson random variable with parameter $\\lambda=5.$  Suppose that a new wonder drug (based on large quantities of vitamin C) has just been marketed that reduces the Poisson parameter to $\\lambda=2$ for 70 percent of the population. For the remaining population, the drug has no appreciable effect on colds.\n",
        "\n",
        "1. As a member of a pharmaceutical decision making body, you are interested in knowing how likely is it that the drug is beneficial for an individual if he/she tries the drug for a year and has $1$ cold in that time. Calculate this probability. **Hint**: apply Bayes' theorem to $P(\\text{Drug beneficial}\\ |\\ \\text{1 cold}).$\n",
        "2. You will approve the drug for production if 10 people who tried the drug for a year and have 1 cold in that time each, the probability that the drug is beneficial for at least 8 of them is greater than 98%. Will you approve the drug or not?\n",
        "\n",
        "---"
      ],
      "metadata": {
        "id": "wB73gOO_MXEE"
      }
    },
    {
      "cell_type": "markdown",
      "source": [
        "$\\small\\begin{align*}P(\\text{Drug beneficial}\\ |\\ \\text{1 cold}) &= \\dfrac{P(\\text{1 cold}\\ |\\ \\text{Drug beneficial)}\\times P(\\text{Drug beneficial})}{P(\\text{1 cold})}\\\\&=\\dfrac{P(\\text{1 cold}\\ |\\ \\text{Drug beneficial)}\\times P(\\text{Drug beneficial})}{P(\\text{1 cold}\\ |\\ \\text{Drug beneficial)}\\times P(\\text{Drug beneficial}) + P(\\text{1 cold}\\ |\\ \\text{Drug not beneficial)}\\times P(\\text{Drug not beneficial})}\\end{align*}$\n",
        "\n",
        "$\\small\\begin{align*}X\\ |\\ \\text{Drug beneficial}&\\sim\\text{Poi}\\left(\\lambda = 2\\,\\frac{\\text{colds}}{\\text{year}}\\right)\\\\X\\ |\\ \\text{Drug not beneficial}&\\sim\\text{Poi}\\left(\\lambda = 5\\,\\frac{\\text{colds}}{\\text{year}}\\right)\\end{align*}$"
      ],
      "metadata": {
        "id": "l_JkhVkYtXkx"
      }
    },
    {
      "cell_type": "code",
      "source": [
        "lambda_beneficial = 2\n",
        "lambda_notbeneficial = 5\n",
        "\n",
        "p_beneficial = 0.7\n",
        "p_notbeneficial = 1 - p_beneficial\n",
        "\n",
        "# Probability that the drug is beneficial\n",
        "j = 1\n",
        "(dpois(j, lambda_beneficial)*p_beneficial) / (dpois(j, lambda_beneficial)*p_beneficial + dpois(j, lambda_notbeneficial)*p_notbeneficial)\n",
        "\n",
        "# Will the drug be approved?\n",
        "n = 10\n",
        "p = (dpois(j, lambda_beneficial)*p_beneficial) / (dpois(j, lambda_beneficial)*p_beneficial + dpois(j, lambda_notbeneficial)*p_notbeneficial)\n",
        "j = 8\n",
        "# X = no. of people benefitted bhy drug\n",
        "j = 8\n",
        "1 - pbinom(j-1, n, p) # P(X >= 8) = 1 - P(X < 7) = 1 - P(X <= 7)\n",
        "# The drug will be approved"
      ],
      "metadata": {
        "id": "pqimmu5WMcbQ"
      },
      "execution_count": null,
      "outputs": []
    },
    {
      "cell_type": "markdown",
      "source": [
        "---\n",
        "\n",
        "\n",
        "Suppose a random number of $K$ customers shop at a supermarket in a day. Let $X_1,X_2,\\ldots,X_K$ represent the random number of items purchased independently by the $1$st, $2$nd, $\\ldots,$ $K$th customer. The total number of items sold in a day is a random number $Y$ such that: $$ Y = X_1+X_2+\\cdots+X_K.$$ Suppose that $30$ customers visit the supermarket on an average per day and that each customer buys on an average 3 items.\n",
        "\n",
        "If you are the supermarket owner and want to increase the *expected* total number of items sold in a day. You have two options: (a) increase the *expected* number of customers by $10\\%$ by spending on external advertisement (b) increase the *expected* number of items purchased by each cutomer by $10\\%$ by spending on internal (in-shop) advertisement.\n",
        "1. Do both options result in an increase in the expected total number of items sold in a day?\n",
        "2. Which option results in the greatest increase in the expected total number of items sold in a day?\n",
        "3. Which option is least risky? **Hint**: standard deviation\n",
        "4. For each option, plot a bar plot showing the distribution of the total number of items sold in a day.\n",
        "\n",
        "---"
      ],
      "metadata": {
        "id": "lKJcCytzNZNy"
      }
    },
    {
      "cell_type": "code",
      "source": [
        "nsimulations = ?\n",
        "K = ?\n",
        "Y = rep(NA, ?)\n",
        "\n",
        "for (i in 1:length(?)){\n",
        "  if (? != 0){\n",
        "    Y[i] = ?\n",
        "      }\n",
        "    }\n",
        "  }\n",
        "\n",
        "# Expected number of items sold in a day\n",
        "?(?)\n",
        "\n",
        "# Standard deviation of items sold in a day\n",
        "?(?)"
      ],
      "metadata": {
        "id": "VYZrEFIqNe4T"
      },
      "execution_count": null,
      "outputs": []
    },
    {
      "cell_type": "markdown",
      "source": [
        "---\n",
        "\n",
        "The following questions are designed to test your understanding using discrete random variables for modeling and calculation purposes:\n",
        "\n",
        "1. Suppose a production line has a 20% defective rate.\n",
        "- What is the probability that the first defective will occur in the 5th inspection?\n",
        "- What is the probability that it will take more than 10 inspections to identify the first defective?\n",
        "- Suppose that the first 10 inspections have been found to be free of defectives. What is the probability that the first defective will occur during the 15th inspection? **Hint**: apply Bayes’ theorem to $P(X = 15\\,|\\,X > 10).$\n",
        "2. Microprocessors for an electronic device are procured from two factories $A$ and $B$ and sent as a single shipment. 70% of the microprocessors come from $A$ and the remaining from $B.$ Suppose that a microprocessor manufactured in $A$ is twice as likely to be defective as one manufactured in $B.$ A shipment containing 10,000 microprocessors arrives of which 200 are found to be defective. Approximately how many defective microprocessors from this shipment can be attributed to $A?$\n",
        "3. What is the probability that in our class of 62 students, at least 2 students share the same birthday (regardless of year)? To this end, denote $X$ as the random variable counting the number of pairs of students who share the same birthday. Note that $X$ can be modeled as $$\\text{Bin}(n=?,\\ p=?),$$ and if $n >> p,$ you could model $X$ as a Poisson random variable.\n",
        "4. This is an exercise on simulating a generic random variable like the salesman's earnings random variable: to determine whether they have bird flu, 50 people have their blood tested. However, rather than testing each individual separately, it is decided to first place the people into groups of 5. The blood samples of the 5 people in each group will be pooled and analyzed together. If the test is negative, one test will suffice for the 5 people, whereas if the test is positive, each of the 5 people will also be individually tested and, in all, 6 tests will be\n",
        "made on this group. Note that we assume that the pooled test will be positive if at least one person in the pool has bird flu. Assume that the probability that a person has bird flu is 15% for all people, independently of each other. Let $X$ be the random variable representing the number of tests required for a random group of 5 people.\n",
        "\n",
        "- What are the values that $X$ can take?\n",
        "- Calculate the associated probabilities using simulation and confirm your answers with pen & paper probabilities.\n",
        "- Compute the expected number of tests for a random group of 5 people if we adopt the testing strategy proposed above using simulation first and then confirm your answer using pen & paper."
      ],
      "metadata": {
        "id": "sX9RioWMHF_R"
      }
    }
  ]
}