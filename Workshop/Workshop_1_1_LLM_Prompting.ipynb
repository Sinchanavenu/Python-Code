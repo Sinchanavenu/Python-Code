{
  "nbformat": 4,
  "nbformat_minor": 0,
  "metadata": {
    "colab": {
      "provenance": []
    },
    "kernelspec": {
      "name": "python3",
      "display_name": "Python 3"
    },
    "language_info": {
      "name": "python"
    }
  },
  "cells": [
    {
      "cell_type": "code",
      "source": [
        "!pip install -q groq"
      ],
      "metadata": {
        "id": "iaSs7VOZmMBW",
        "outputId": "250a9575-5bbc-48b3-969f-2bb4bc5ad850",
        "colab": {
          "base_uri": "https://localhost:8080/"
        }
      },
      "execution_count": 1,
      "outputs": [
        {
          "output_type": "stream",
          "name": "stdout",
          "text": [
            "\u001b[?25l   \u001b[90m━━━━━━━━━━━━━━━━━━━━━━━━━━━━━━━━━━━━━━━━\u001b[0m \u001b[32m0.0/108.8 kB\u001b[0m \u001b[31m?\u001b[0m eta \u001b[36m-:--:--\u001b[0m\r\u001b[2K   \u001b[91m━━━━━━━━━━━━━━━━━━━━━━━━━━━━━━━━━━━━━\u001b[0m\u001b[91m╸\u001b[0m\u001b[90m━━\u001b[0m \u001b[32m102.4/108.8 kB\u001b[0m \u001b[31m4.0 MB/s\u001b[0m eta \u001b[36m0:00:01\u001b[0m\r\u001b[2K   \u001b[90m━━━━━━━━━━━━━━━━━━━━━━━━━━━━━━━━━━━━━━━━\u001b[0m \u001b[32m108.8/108.8 kB\u001b[0m \u001b[31m2.7 MB/s\u001b[0m eta \u001b[36m0:00:00\u001b[0m\n",
            "\u001b[?25h"
          ]
        }
      ]
    },
    {
      "cell_type": "markdown",
      "source": [
        "We will be using [Groq Cloud's](https://console.groq.com/playground) hosted models in this tutorial. You can can access these models for free using the Groq python APIs.\n",
        "\n",
        "Go to the above mentioned link and create an account to generate the API key."
      ],
      "metadata": {
        "id": "jvK5ZXwqtRHC"
      }
    },
    {
      "cell_type": "code",
      "source": [
        "from google.colab import userdata\n",
        "import os\n",
        "from groq import Groq\n",
        "\n",
        "os.environ['GROQ_API_KEY'] = userdata.get('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')"
      ],
      "metadata": {
        "id": "RUaREZocmwqU",
        "outputId": "565fba65-4e6a-4ea8-8d4b-226ea7214fa8",
        "colab": {
          "base_uri": "https://localhost:8080/",
          "height": 297
        }
      },
      "execution_count": 11,
      "outputs": [
        {
          "output_type": "error",
          "ename": "SecretNotFoundError",
          "evalue": "Secret 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 does not exist.",
          "traceback": [
            "\u001b[0;31m---------------------------------------------------------------------------\u001b[0m",
            "\u001b[0;31mSecretNotFoundError\u001b[0m                       Traceback (most recent call last)",
            "\u001b[0;32m<ipython-input-11-b0d0320d5716>\u001b[0m in \u001b[0;36m<cell line: 5>\u001b[0;34m()\u001b[0m\n\u001b[1;32m      3\u001b[0m \u001b[0;32mfrom\u001b[0m \u001b[0mgroq\u001b[0m \u001b[0;32mimport\u001b[0m \u001b[0mGroq\u001b[0m\u001b[0;34m\u001b[0m\u001b[0;34m\u001b[0m\u001b[0m\n\u001b[1;32m      4\u001b[0m \u001b[0;34m\u001b[0m\u001b[0m\n\u001b[0;32m----> 5\u001b[0;31m \u001b[0mos\u001b[0m\u001b[0;34m.\u001b[0m\u001b[0menviron\u001b[0m\u001b[0;34m[\u001b[0m\u001b[0;34m'GROQ_API_KEY'\u001b[0m\u001b[0;34m]\u001b[0m \u001b[0;34m=\u001b[0m \u001b[0muserdata\u001b[0m\u001b[0;34m.\u001b[0m\u001b[0mget\u001b[0m\u001b[0;34m(\u001b[0m\u001b[0;34m'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'\u001b[0m\u001b[0;34m)\u001b[0m\u001b[0;34m\u001b[0m\u001b[0;34m\u001b[0m\u001b[0m\n\u001b[0m",
            "\u001b[0;32m/usr/local/lib/python3.10/dist-packages/google/colab/userdata.py\u001b[0m in \u001b[0;36mget\u001b[0;34m(key)\u001b[0m\n\u001b[1;32m     66\u001b[0m     \u001b[0;32mraise\u001b[0m \u001b[0mTimeoutException\u001b[0m\u001b[0;34m(\u001b[0m\u001b[0mkey\u001b[0m\u001b[0;34m)\u001b[0m\u001b[0;34m\u001b[0m\u001b[0;34m\u001b[0m\u001b[0m\n\u001b[1;32m     67\u001b[0m   \u001b[0;32mif\u001b[0m \u001b[0;32mnot\u001b[0m \u001b[0mresp\u001b[0m\u001b[0;34m.\u001b[0m\u001b[0mget\u001b[0m\u001b[0;34m(\u001b[0m\u001b[0;34m'exists'\u001b[0m\u001b[0;34m,\u001b[0m \u001b[0;32mFalse\u001b[0m\u001b[0;34m)\u001b[0m\u001b[0;34m:\u001b[0m\u001b[0;34m\u001b[0m\u001b[0;34m\u001b[0m\u001b[0m\n\u001b[0;32m---> 68\u001b[0;31m     \u001b[0;32mraise\u001b[0m \u001b[0mSecretNotFoundError\u001b[0m\u001b[0;34m(\u001b[0m\u001b[0mkey\u001b[0m\u001b[0;34m)\u001b[0m\u001b[0;34m\u001b[0m\u001b[0;34m\u001b[0m\u001b[0m\n\u001b[0m\u001b[1;32m     69\u001b[0m   \u001b[0;32mif\u001b[0m \u001b[0;32mnot\u001b[0m \u001b[0mresp\u001b[0m\u001b[0;34m.\u001b[0m\u001b[0mget\u001b[0m\u001b[0;34m(\u001b[0m\u001b[0;34m'access'\u001b[0m\u001b[0;34m,\u001b[0m \u001b[0;32mFalse\u001b[0m\u001b[0;34m)\u001b[0m\u001b[0;34m:\u001b[0m\u001b[0;34m\u001b[0m\u001b[0;34m\u001b[0m\u001b[0m\n\u001b[1;32m     70\u001b[0m     \u001b[0;32mraise\u001b[0m \u001b[0mNotebookAccessError\u001b[0m\u001b[0;34m(\u001b[0m\u001b[0mkey\u001b[0m\u001b[0;34m)\u001b[0m\u001b[0;34m\u001b[0m\u001b[0;34m\u001b[0m\u001b[0m\n",
            "\u001b[0;31mSecretNotFoundError\u001b[0m: Secret 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 does not exist."
          ]
        }
      ]
    },
    {
      "cell_type": "markdown",
      "source": [
        "## Introduction\n",
        "\n",
        "Prompt -> LLM -> Completion\n",
        "\n",
        "### What is an LLM API\n",
        "\n",
        "An **LLM API** (Large Language Model Application Programming Interface) is a service that allows developers to interact with a pre-trained language model hosted by a provider. It processes a **prompt** (user input) and generates a **completion** (model's response) based on the task it has been designed for, such as text generation, summarization, or question answering.\n",
        "\n",
        "---\n",
        "\n",
        "### Prompt:\n",
        "\n",
        "A **prompt** is the input text provided to the language model to elicit a response. It can include instructions, context, or examples to guide the model's output. A well-crafted prompt improves the relevance and quality of the completion.\n",
        "\n",
        "---\n",
        "\n",
        "### Completion:\n",
        "\n",
        "A **completion** is the output generated by the language model in response to the provided prompt. It can range from a single word to detailed paragraphs, depending on the context and the token limits of the model.\n",
        "\n",
        "---\n",
        "\n",
        "### Context window and max output tokens:\n",
        "\n",
        "#### **Context window**:\n",
        "The **context window** represents the maximum number of tokens (words or subword units) that the model can process in a single interaction, including both the prompt and completion.\n",
        "\n",
        "- **GPT-3.5 Turbo**: About 16k tokens  \n",
        "- **GPT-4, 4o**: Up to 128k tokens  \n",
        "- **Claude 3.5 (Haiku, Sonnet)**: Up to 200k tokens  \n",
        "- **Llama 3.1, 3.2**: Up to 128k tokens  \n",
        "\n",
        "#### **Max output tokens**:\n",
        "\n",
        "The **max output tokens** specify the maximum number of tokens that the model will generate as part of its completion. The max output tokens are typically limited by the context window size minus the length of the input prompt. For example:\n",
        "\n",
        "- If the context window is 16k tokens and the input prompt is 6k tokens, the model can generate up to 10k tokens in its completion.  \n",
        "\n"
      ],
      "metadata": {
        "id": "82GmSrgvt-Xk"
      }
    },
    {
      "cell_type": "markdown",
      "source": [
        "![image.png](data:image/png;base64,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)"
      ],
      "metadata": {
        "id": "HGVnEpmDkRtP"
      }
    },
    {
      "cell_type": "markdown",
      "source": [
        "Groq API documentation: https://console.groq.com/docs/api-reference#chat"
      ],
      "metadata": {
        "id": "v3R3LZLUpMvJ"
      }
    },
    {
      "cell_type": "code",
      "execution_count": 8,
      "metadata": {
        "colab": {
          "base_uri": "https://localhost:8080/",
          "height": 332
        },
        "id": "Gk6_AKeEkmlE",
        "outputId": "b97855f5-8906-4557-dedf-1a3aaa3afabe"
      },
      "outputs": [
        {
          "output_type": "error",
          "ename": "GroqError",
          "evalue": "The api_key client option must be set either by passing api_key to the client or by setting the GROQ_API_KEY environment variable",
          "traceback": [
            "\u001b[0;31m---------------------------------------------------------------------------\u001b[0m",
            "\u001b[0;31mGroqError\u001b[0m                                 Traceback (most recent call last)",
            "\u001b[0;32m<ipython-input-8-8d084376e015>\u001b[0m in \u001b[0;36m<cell line: 1>\u001b[0;34m()\u001b[0m\n\u001b[0;32m----> 1\u001b[0;31m \u001b[0mclient\u001b[0m \u001b[0;34m=\u001b[0m \u001b[0mGroq\u001b[0m\u001b[0;34m(\u001b[0m\u001b[0;34m)\u001b[0m\u001b[0;34m\u001b[0m\u001b[0;34m\u001b[0m\u001b[0m\n\u001b[0m\u001b[1;32m      2\u001b[0m completion = client.chat.completions.create(\n\u001b[1;32m      3\u001b[0m     \u001b[0mmodel\u001b[0m\u001b[0;34m=\u001b[0m\u001b[0;34m\"llama3-8b-8192\"\u001b[0m\u001b[0;34m,\u001b[0m\u001b[0;34m\u001b[0m\u001b[0;34m\u001b[0m\u001b[0m\n\u001b[1;32m      4\u001b[0m     messages=[\n\u001b[1;32m      5\u001b[0m         {\n",
            "\u001b[0;32m/usr/local/lib/python3.10/dist-packages/groq/_client.py\u001b[0m in \u001b[0;36m__init__\u001b[0;34m(self, api_key, base_url, timeout, max_retries, default_headers, default_query, http_client, _strict_response_validation)\u001b[0m\n\u001b[1;32m     87\u001b[0m             \u001b[0mapi_key\u001b[0m \u001b[0;34m=\u001b[0m \u001b[0mos\u001b[0m\u001b[0;34m.\u001b[0m\u001b[0menviron\u001b[0m\u001b[0;34m.\u001b[0m\u001b[0mget\u001b[0m\u001b[0;34m(\u001b[0m\u001b[0;34m\"GROQ_API_KEY\"\u001b[0m\u001b[0;34m)\u001b[0m\u001b[0;34m\u001b[0m\u001b[0;34m\u001b[0m\u001b[0m\n\u001b[1;32m     88\u001b[0m         \u001b[0;32mif\u001b[0m \u001b[0mapi_key\u001b[0m \u001b[0;32mis\u001b[0m \u001b[0;32mNone\u001b[0m\u001b[0;34m:\u001b[0m\u001b[0;34m\u001b[0m\u001b[0;34m\u001b[0m\u001b[0m\n\u001b[0;32m---> 89\u001b[0;31m             raise GroqError(\n\u001b[0m\u001b[1;32m     90\u001b[0m                 \u001b[0;34m\"The api_key client option must be set either by passing api_key to the client or by setting the GROQ_API_KEY environment variable\"\u001b[0m\u001b[0;34m\u001b[0m\u001b[0;34m\u001b[0m\u001b[0m\n\u001b[1;32m     91\u001b[0m             )\n",
            "\u001b[0;31mGroqError\u001b[0m: The api_key client option must be set either by passing api_key to the client or by setting the GROQ_API_KEY environment variable"
          ]
        }
      ],
      "source": [
        "client = Groq()\n",
        "completion = client.chat.completions.create(\n",
        "    model=\"llama3-8b-8192\",\n",
        "    messages=[\n",
        "        {\n",
        "            \"role\": \"user\",\n",
        "            \"content\": \"hi\"\n",
        "        }\n",
        "    ],\n",
        "    temperature=1,\n",
        "    max_tokens=1024,\n",
        "    top_p=1,\n",
        "    stream=False,\n",
        "    stop=None\n",
        ")\n",
        "\n",
        "## streaming output\n",
        "# for chunk in completion:\n",
        "#     print(chunk.choices[0].delta.content or \"\", end=\"\", flush=True)\n",
        "\n",
        "response = completion.choices[0].message.content\n",
        "print(response)"
      ]
    },
    {
      "cell_type": "markdown",
      "source": [
        "Helpful parameters\n",
        "\n",
        "1. **model**: Specifies which model to use.\n",
        "2. **messages**: Contains the chat history so the model understands context.\n",
        "3. **temperature**: Controls randomness; higher is more creative, lower is more focused.\n",
        "4. **max_tokens**: Limits response length.\n",
        "5. **top_p**: Narrows model choices to the most likely responses.\n",
        "6. **frequency_penalty**: Reduces repeated phrases in the response.\n",
        "7. **presence_penalty**: Encourages discussing new topics.\n",
        "8. **stream**: Sends the response in real-time chunks as it generates.\n",
        "9. **stop**: Defines sequences that stop the model's response.\n",
        "\n"
      ],
      "metadata": {
        "id": "1tam-iyYqFuY"
      }
    },
    {
      "cell_type": "code",
      "source": [
        "# system prompt\n",
        "\n",
        "client = Groq()\n",
        "completion = client.chat.completions.create(\n",
        "    model=\"llama3-8b-8192\",\n",
        "    messages=[\n",
        "        {\n",
        "            \"role\": \"system\", # instructions to follow while generating\n",
        "            \"content\": \"You are a helpful assistant\"\n",
        "        },\n",
        "        {\n",
        "            \"role\": \"user\",\n",
        "            \"content\": \"How to overcome stress\"\n",
        "        }\n",
        "    ],\n",
        "    temperature=1,\n",
        "    max_tokens=1024,\n",
        "    top_p=1,\n",
        "    stream=False,\n",
        "    stop=None\n",
        ")\n",
        "\n",
        "## streaming output\n",
        "# for chunk in completion:\n",
        "#     print(chunk.choices[0].delta.content or \"\", end=\"\", flush=True)\n",
        "\n",
        "response = completion.choices[0].message.content\n",
        "print(response)"
      ],
      "metadata": {
        "colab": {
          "base_uri": "https://localhost:8080/"
        },
        "id": "E_WKnlObqFIj",
        "outputId": "5a33a303-f56a-4d94-b67c-9493c5b66ce3"
      },
      "execution_count": null,
      "outputs": [
        {
          "output_type": "stream",
          "name": "stdout",
          "text": [
            "Overcoming stress requires a combination of self-care, lifestyle changes, and stress-reducing techniques. Here are some strategies to help you manage stress:\n",
            "\n",
            "1. **Identify your stressors**: Take some time to reflect on what causes you stress. Is it work, relationships, or something else? Once you know what's causing your stress, you can start working on ways to address it.\n",
            "2. **Exercise regularly**: Physical activity is a great stress-reliever. Try going for a walk, jog, or bike ride, or doing some yoga or strength training. Exercise can help reduce stress hormones like cortisol and adrenaline.\n",
            "3. **Practice relaxation techniques**: Techniques like deep breathing, progressive muscle relaxation, and visualization can help calm your mind and body. You can find many guided relaxation exercises online or through mobile apps.\n",
            "4. **Get enough sleep**: Lack of sleep can exacerbate stress. Aim for 7-9 hours of sleep per night and establish a consistent bedtime routine to improve sleep quality.\n",
            "5. **Eat a healthy diet**: A balanced diet with plenty of fruits, vegetables, whole grains, and lean protein can help support your mental health. Avoid sugary and processed foods that can exacerbate stress.\n",
            "6. **Practice mindfulness**: Mindfulness involves being present in the moment and focusing on your thoughts, feelings, and sensations without judgment. You can practice mindfulness through meditation, yoga, or simple exercises like paying attention to your breath.\n",
            "7. **Take breaks**: Make time for activities you enjoy and take regular breaks throughout the day. Whether it's reading a book, taking a walk, or chatting with a friend, taking breaks can help reduce stress.\n",
            "8. **Set boundaries**: Learn to say \"no\" to commitments that drain your energy and say \"yes\" to those that nourish your mind, body, and soul.\n",
            "9. **Seek social support**: Sharing your feelings with a trusted friend, family member, or mental health professional can help you feel heard and supported.\n",
            "10. **Practice gratitude**: Take time each day to reflect on the things you're grateful for. Focusing on the positive can help shift your perspective and reduce stress.\n",
            "11. **Get a massage**: Massage therapy can help reduce physical tension and promote relaxation. You can find licensed massage therapists in your area or try self-massage techniques.\n",
            "12. **Take care of your digital health**: Avoid screens and digital devices for at least an hour before bedtime, and take regular breaks from social media and other stressful digital activities.\n",
            "13. **Try aromatherapy**: Certain scents like lavender and chamomile can promote relaxation and reduce stress. Use essential oils in a diffuser, applies topically, or inhale them directly from a cloth or handkerchief.\n",
            "14. **Practice yoga or tai chi**: These exercises combine physical movement with deep breathing and meditation techniques to promote relaxation and reduce stress.\n",
            "15. **Consider therapy**: If you're experiencing chronic stress or it's impacting your daily life, consider seeking help from a mental health professional. They can help you develop coping strategies and provide support.\n",
            "\n",
            "Remember, overcoming stress is a process that takes time, patience, and practice. Experiment with different techniques to find what works best for you, and don't be afraid to seek help if you need it.\n"
          ]
        }
      ]
    },
    {
      "cell_type": "markdown",
      "source": [
        "Hellucination in LLMs"
      ],
      "metadata": {
        "id": "JO2VK_H5v2v3"
      }
    },
    {
      "cell_type": "code",
      "source": [],
      "metadata": {
        "id": "CFwmpB1gqCOb"
      },
      "execution_count": null,
      "outputs": []
    },
    {
      "cell_type": "markdown",
      "source": [
        "## Prompt Engineering\n",
        "**Part 1**\n",
        "- Zero shot, one shot, few shot\n",
        "- Chain of thoughts"
      ],
      "metadata": {
        "id": "C5IXRAULuMpS"
      }
    },
    {
      "cell_type": "code",
      "source": [
        "def get_response_from_groq(system_role, user_message, **kwargs):\n",
        "    client = Groq()\n",
        "\n",
        "    model = kwargs.get(\"model\", \"llama3-8b-8192\")\n",
        "    temperature = kwargs.get(\"temperature\", 1)\n",
        "    max_tokens = kwargs.get(\"max_tokens\", 1024)\n",
        "    top_p = kwargs.get(\"top_p\", 1)\n",
        "    stop = kwargs.get(\"stop\", None)\n",
        "    # stream = kwargs.get(\"stream\", True)\n",
        "\n",
        "    messages = [\n",
        "        {\n",
        "            \"role\": \"system\",\n",
        "            \"content\": system_role\n",
        "        },\n",
        "        {\n",
        "            \"role\": \"user\",\n",
        "            \"content\": user_message\n",
        "        }\n",
        "    ]\n",
        "\n",
        "    completion = client.chat.completions.create(\n",
        "          model=model,\n",
        "          messages=messages,\n",
        "          temperature=temperature,\n",
        "          max_tokens=max_tokens,\n",
        "          top_p=top_p,\n",
        "          # stream=stream,\n",
        "          stop=stop\n",
        "      )\n",
        "\n",
        "    # if stream:\n",
        "    #   print(\"streaming\")\n",
        "    #   yield from (chunk.choices[0].delta.content or \"\" for chunk in completion)\n",
        "    # else:\n",
        "    #   response = completion.choices[0].message.content\n",
        "    #   yield response\n",
        "\n",
        "    response = completion.choices[0].message.content\n",
        "    return response"
      ],
      "metadata": {
        "id": "EgE0jc5guOf2"
      },
      "execution_count": null,
      "outputs": []
    },
    {
      "cell_type": "code",
      "source": [
        "# Zero shot\n",
        "system_role = \"Output only the location name in a JSON format\"\n",
        "user_message = \"what is the capital of India?\"\n",
        "\n",
        "response = get_response_from_groq(system_role, user_message,)\n",
        "\n",
        "print(response)\n"
      ],
      "metadata": {
        "colab": {
          "base_uri": "https://localhost:8080/"
        },
        "id": "Uel2-iSPyDCC",
        "outputId": "aa957963-51eb-4f62-adf2-0b72db5d6587"
      },
      "execution_count": null,
      "outputs": [
        {
          "output_type": "stream",
          "name": "stdout",
          "text": [
            "The capital of India is New Delhi.\n"
          ]
        }
      ]
    },
    {
      "cell_type": "code",
      "source": [
        "# One shot\n",
        "system_role = \"\"\"Output only the location name in a JSON format.\n",
        "Examples:\n",
        "User: What is the capital of India?\n",
        "Assistant: {\n",
        "    \"location\": \"New Delhi\"\n",
        "}\"\"\"\n",
        "\n",
        "\n",
        "user_message = \"What is the capital of UK?\"\n",
        "\n",
        "response = get_response_from_groq(system_role, user_message)\n",
        "\n",
        "print(response)"
      ],
      "metadata": {
        "colab": {
          "base_uri": "https://localhost:8080/"
        },
        "id": "9QbwD4Yiy1Hd",
        "outputId": "57924757-7f0d-4217-e87c-a80322231400"
      },
      "execution_count": null,
      "outputs": [
        {
          "output_type": "stream",
          "name": "stdout",
          "text": [
            "{\n",
            "    \"location\": \"London\"\n",
            "}\n"
          ]
        }
      ]
    },
    {
      "cell_type": "code",
      "source": [
        "# Few shot prompting\n",
        "system_role = \"\"\"True or False\n",
        "Examples: A: Adding all the odd numbers (9, 15, 1) gives 25. The answer is False.\n",
        "The odd numbers in this group add up to an even number: 17,  10, 19, 4, 8, 12, 24.\n",
        "A: Adding all the odd numbers (17, 19) gives 36. The answer is True.\n",
        "The odd numbers in this group add up to an even number: 16,  11, 14, 4, 8, 13, 24.\n",
        "A: Adding all the odd numbers (11, 13) gives 24. The answer is True.\n",
        "The odd numbers in this group add up to an even number: 17,  9, 10, 12, 13, 4, 2.\n",
        "A: Adding all the odd numbers (17, 9, 13) gives 39. The answer is False.\n",
        "\"\"\"\n",
        "\n",
        "user_message = \"\"\"The odd numbers in this group add up to an even number: 15, 32, 5, 13, 82, 7, 1. \"\"\"\n",
        "\n",
        "response = get_response_from_groq(system_role, user_message)\n",
        "\n",
        "print(response)"
      ],
      "metadata": {
        "colab": {
          "base_uri": "https://localhost:8080/"
        },
        "id": "sDA3m5VQIqa8",
        "outputId": "f296351a-ea76-409d-b9c2-e9a06f1d07ce"
      },
      "execution_count": null,
      "outputs": [
        {
          "output_type": "stream",
          "name": "stdout",
          "text": [
            "Let's add up the odd numbers in the group: 15 + 5 + 13 + 7 + 1 = 41.\n",
            "\n",
            "Since 41 is an odd number, the statement \"The odd numbers in this group add up to an even number\" is actually FALSE.\n"
          ]
        }
      ]
    },
    {
      "cell_type": "code",
      "source": [
        "# Chain of thoughts Prompting\n",
        "\n",
        "system_role = \"\"\"True or False\n",
        "Let's think step by step and perform math step wise\"\"\"\n",
        "\n",
        "user_message = \"\"\"The odd numbers in this group add up to an even number: 15, 32, 5, 13, 82, 7, 1.\"\"\"\n",
        "\n",
        "response = get_response_from_groq(system_role, user_message, temperature=0)\n",
        "\n",
        "print(response)"
      ],
      "metadata": {
        "colab": {
          "base_uri": "https://localhost:8080/"
        },
        "id": "A8QpJlgMExR1",
        "outputId": "2cc829c5-3891-40e8-cf4d-43a7e3ca681b"
      },
      "execution_count": null,
      "outputs": [
        {
          "output_type": "stream",
          "name": "stdout",
          "text": [
            "Let's identify the odd numbers in the group:\n",
            "\n",
            "* 15\n",
            "* 5\n",
            "* 13\n",
            "* 7\n",
            "* 1\n",
            "\n",
            "Now, let's add them up:\n",
            "\n",
            "15 + 5 = 20\n",
            "20 + 13 = 33\n",
            "33 + 7 = 40\n",
            "40 + 1 = 41\n",
            "\n",
            "The sum of the odd numbers is 41, which is an odd number, not an even number.\n",
            "\n",
            "So, the statement is FALSE.\n"
          ]
        }
      ]
    },
    {
      "cell_type": "markdown",
      "source": [
        "Other useful techniques:\n",
        "  - Self-Consistency [link-1](https://www.promptingguide.ai/techniques/consistency) [link-2](https://learnprompting.org/docs/intermediate/self_consistency)\n",
        "  - Tree of Thoughts (ToT) [link](https://www.promptingguide.ai/techniques/tot)"
      ],
      "metadata": {
        "id": "61CO6Sb3LYHn"
      }
    },
    {
      "cell_type": "markdown",
      "source": [
        "### Task\n",
        "\n",
        "### Extract structured information from SMS data\n",
        "\n",
        "You need to build a tool that can extract the following details from the mobile message data:\n",
        "- Date\n",
        "- Sender (str) Swiggy, Zomato, ICICI etc.\n",
        "- Type (str) otp message, promotion, scam, credit, debit, recharge etc.\n",
        "- Amount (str)\n",
        "- Severity (str) low, medium and high. (Messages that are uncommon/ need urgent action/ money debited, etc)\n",
        "- short description\n",
        "\n",
        "NOTE: Add more categories as needed.\n",
        "Personal or confidential information such as email, otp, username, password, number etc should not be persent in the output."
      ],
      "metadata": {
        "id": "3S8RsKJxpWOq"
      }
    },
    {
      "cell_type": "code",
      "source": [
        "# Load dataset\n",
        "\n",
        "import kagglehub\n",
        "\n",
        "# Download latest version\n",
        "path = kagglehub.dataset_download(\"dshah1612/sms-data\")\n",
        "\n",
        "print(\"Path to dataset files:\", path)"
      ],
      "metadata": {
        "colab": {
          "base_uri": "https://localhost:8080/"
        },
        "id": "pijkENI7L9rA",
        "outputId": "414dffb0-b185-44f1-ab67-09bb393d60d9"
      },
      "execution_count": null,
      "outputs": [
        {
          "output_type": "stream",
          "name": "stdout",
          "text": [
            "Path to dataset files: /root/.cache/kagglehub/datasets/dshah1612/sms-data/versions/1\n"
          ]
        }
      ]
    },
    {
      "cell_type": "code",
      "source": [
        "import pandas as pd"
      ],
      "metadata": {
        "id": "Cidm4kjEsmVW"
      },
      "execution_count": null,
      "outputs": []
    },
    {
      "cell_type": "code",
      "source": [
        "data = pd.read_csv(path + \"/SMS-Data.csv\")\n",
        "\n",
        "data.head()[[\"senderAddress\",\"text\"]].to_dict(orient=\"records\")"
      ],
      "metadata": {
        "colab": {
          "base_uri": "https://localhost:8080/"
        },
        "id": "i9UNPmiXsp55",
        "outputId": "dce60a56-9980-4ee5-b69f-16f70f6c9173"
      },
      "execution_count": null,
      "outputs": [
        {
          "output_type": "execute_result",
          "data": {
            "text/plain": [
              "[{'senderAddress': 'JK-SmplPL',\n",
              "  'text': 'Rs.95.15 on Zomato charged via Simpl.\\r\\n--\\r\\nFood, groceries, commute, or medicines. Buy Now, Pay Later via Simpl. Know More: https://click.getsimpl.com/vyhm/5b611f85\\r\\n-\\r\\nSimpl Pay'},\n",
              " {'senderAddress': 'VP-ViCARE',\n",
              "  'text': 'Hi! Update your email id through WhatsApp: https://wa.me/message/SIAJ2QKMIOVEI1 or head to Vi App https://bit.ly/371QhWe. This will help as ID verification in case of any SIM related needs.\\n\\n\\n'},\n",
              " {'senderAddress': 'VP-612345',\n",
              "  'text': 'Lucknow ya Kolkata ? - watch it LIVE with Vi cricket pack  RC 499 - 2GB/day+Unlimited Calls+1year Disney+ Hotstar mobile pack. https://bit.ly/VHST1\\n'},\n",
              " {'senderAddress': 'BP-ACKOGI',\n",
              "  'text': 'Mohd,\\nCheck the incredible Acko insurance policy you just bought on Zomato, and add a nominee to it here https://acko.in/t/zwWJOO Save this link for quick access to your policy.'},\n",
              " {'senderAddress': 'VP-ViCARE',\n",
              "  'text': 'Hi! You can now get your Vi prepaid invoice emailed to you, simply click https://wa.me/message/5GA7LYJN5IETD1 or visit Vi App at https://bit.ly/3IIQ9J8\\n\\n\\n'}]"
            ]
          },
          "metadata": {},
          "execution_count": 12
        }
      ]
    },
    {
      "cell_type": "markdown",
      "source": [
        "### Chatbot\n",
        "\n",
        "Create a chatbot application with the following features:\n",
        "\n",
        "1. **Initialization**: Start with a system-defined prompt (e.g., \"You are a helpful assistant\").  \n",
        "2. **Message Handling**: Maintain a conversation history and respond to user inputs.  \n",
        "3. **Reset**: Include a command to clear the conversation history.  \n",
        "4. **Custom Settings**: Allow adjustment of model settings like response creativity and length.  \n",
        "5. **CLI Interface**: Build a simple interface where:\n",
        "   - Users can type messages.\n",
        "   - \"exit\" ends the chat, and \"clear\" resets the history.  \n",
        "6. **Error Handling**: Handle unexpected inputs gracefully.  \n",
        "\n",
        "You can make this a CLI application."
      ],
      "metadata": {
        "id": "o_74BROR1rlc"
      }
    },
    {
      "cell_type": "code",
      "source": [
        "!ls"
      ],
      "metadata": {
        "colab": {
          "base_uri": "https://localhost:8080/"
        },
        "id": "x61GvivS2erB",
        "outputId": "56178238-0670-42c0-ea04-e7c52c3ded8d"
      },
      "execution_count": null,
      "outputs": [
        {
          "output_type": "stream",
          "name": "stdout",
          "text": [
            "chatapp.py  __pycache__  sample_data\n"
          ]
        }
      ]
    },
    {
      "cell_type": "code",
      "source": [
        "from chatapp import ChatApp"
      ],
      "metadata": {
        "id": "Q2p6KyI42j3x"
      },
      "execution_count": null,
      "outputs": []
    },
    {
      "cell_type": "code",
      "source": [
        "app = ChatApp(\"You answer only in bullet points\")"
      ],
      "metadata": {
        "colab": {
          "base_uri": "https://localhost:8080/"
        },
        "id": "QmYNqZyKyU_H",
        "outputId": "a3dc9c8c-50ba-4bf9-de31-1808c2631e3b"
      },
      "execution_count": null,
      "outputs": [
        {
          "output_type": "stream",
          "name": "stdout",
          "text": [
            "Enter 'exit' to end the conversation.\n",
            "Enter 'clear' to reset the conversation.\n"
          ]
        }
      ]
    },
    {
      "cell_type": "code",
      "source": [
        "app.run()"
      ],
      "metadata": {
        "colab": {
          "base_uri": "https://localhost:8080/"
        },
        "id": "WbwRnDW4yv0c",
        "outputId": "888fba32-8123-4e27-ac9b-15c728edea91"
      },
      "execution_count": null,
      "outputs": [
        {
          "name": "stdout",
          "output_type": "stream",
          "text": [
            "User: Hi\n",
            "ChatBot: • Hi! How can I assist you today?\n",
            "\n",
            "User: Goof\n",
            "ChatBot: • You just goofy!\n",
            "\n",
            "User: clear\n",
            "Chat history cleared.\n",
            "User: exit\n"
          ]
        }
      ]
    }
  ]
}